{
 "cells": [
  {
   "cell_type": "code",
   "execution_count": 1,
   "id": "fa7b2753-d67e-4232-a50a-6e9ce6ea1958",
   "metadata": {
    "tags": []
   },
   "outputs": [],
   "source": [
    "import pandas as pd\n",
    "import matplotlib.pyplot as plt\n",
    "import numpy as np\n",
    "import os\n",
    "from matplotlib.backends.backend_pdf import PdfPages\n",
    "from astropy.wcs import WCS\n",
    "from astropy import units as u\n",
    "from astropy.coordinates import SkyCoord\n",
    "#pd.options.mode.copy_on_write = True\n",
    "from astropy.table import Table\n",
    "from astropy.cosmology import FlatLambdaCDM\n",
    "import multiprocessing as mp\n",
    "from tqdm import tqdm\n",
    "from astropy.time import Time\n",
    "cosmo = FlatLambdaCDM(name='Planck18', H0=67.66, Om0=0.30966, Tcmb0=2.7255, Neff=3.046, m_nu=[0.  , 0.  , 0.06]* u.eV, Ob0=0.04897)\n",
    "cores = 2"
   ]
  },
  {
   "cell_type": "code",
   "execution_count": 2,
   "id": "4ac7684d-d964-479e-b652-3d7fd48b7793",
   "metadata": {
    "tags": []
   },
   "outputs": [],
   "source": [
    "crossmatch_df = pd.read_csv('../CrossMatch/DESIRT_one_arcsecond_crossmatch_final_list.csv')\n",
    "DESIRT_lc = pd.read_csv('../LightCurves/DESIRT_lightcurves_final_list.csv')"
   ]
  },
  {
   "cell_type": "code",
   "execution_count": 4,
   "id": "ed6dc140-d543-4e36-86f3-08b0772c5cd3",
   "metadata": {
    "tags": []
   },
   "outputs": [],
   "source": [
    "interesting = np.load('../UploadToFritz/interesting.npy')"
   ]
  },
  {
   "cell_type": "code",
   "execution_count": 15,
   "id": "4cd79635-fd54-4d26-81b2-72f0bcfa51ff",
   "metadata": {
    "tags": []
   },
   "outputs": [
    {
     "data": {
      "text/html": [
       "<div>\n",
       "<style scoped>\n",
       "    .dataframe tbody tr th:only-of-type {\n",
       "        vertical-align: middle;\n",
       "    }\n",
       "\n",
       "    .dataframe tbody tr th {\n",
       "        vertical-align: top;\n",
       "    }\n",
       "\n",
       "    .dataframe thead th {\n",
       "        text-align: right;\n",
       "    }\n",
       "</style>\n",
       "<table border=\"1\" class=\"dataframe\">\n",
       "  <thead>\n",
       "    <tr style=\"text-align: right;\">\n",
       "      <th></th>\n",
       "      <th>STANDARD_NAME</th>\n",
       "      <th>21A</th>\n",
       "      <th>22A</th>\n",
       "      <th>22B</th>\n",
       "      <th>23A</th>\n",
       "      <th>23B</th>\n",
       "      <th>ra_obj</th>\n",
       "      <th>dec_obj</th>\n",
       "    </tr>\n",
       "  </thead>\n",
       "  <tbody>\n",
       "    <tr>\n",
       "      <th>0</th>\n",
       "      <td>A202204211423123m005116</td>\n",
       "      <td>NaN</td>\n",
       "      <td>A202204211423123m005116</td>\n",
       "      <td>NaN</td>\n",
       "      <td>NaN</td>\n",
       "      <td>NaN</td>\n",
       "      <td>215.801045</td>\n",
       "      <td>-0.854565</td>\n",
       "    </tr>\n",
       "    <tr>\n",
       "      <th>1</th>\n",
       "      <td>T202210060350237m154301</td>\n",
       "      <td>NaN</td>\n",
       "      <td>NaN</td>\n",
       "      <td>T202210060350237m154301</td>\n",
       "      <td>NaN</td>\n",
       "      <td>NaN</td>\n",
       "      <td>57.598765</td>\n",
       "      <td>-15.716956</td>\n",
       "    </tr>\n",
       "    <tr>\n",
       "      <th>2</th>\n",
       "      <td>C202210060349568m152123</td>\n",
       "      <td>NaN</td>\n",
       "      <td>NaN</td>\n",
       "      <td>C202210060349568m152123</td>\n",
       "      <td>NaN</td>\n",
       "      <td>NaN</td>\n",
       "      <td>57.486793</td>\n",
       "      <td>-15.356516</td>\n",
       "    </tr>\n",
       "    <tr>\n",
       "      <th>3</th>\n",
       "      <td>C202311050349356m152913</td>\n",
       "      <td>NaN</td>\n",
       "      <td>NaN</td>\n",
       "      <td>NaN</td>\n",
       "      <td>NaN</td>\n",
       "      <td>C202311050349356m152913</td>\n",
       "      <td>57.398318</td>\n",
       "      <td>-15.486978</td>\n",
       "    </tr>\n",
       "    <tr>\n",
       "      <th>4</th>\n",
       "      <td>C202310060349100m161333</td>\n",
       "      <td>NaN</td>\n",
       "      <td>NaN</td>\n",
       "      <td>NaN</td>\n",
       "      <td>NaN</td>\n",
       "      <td>C202310060349100m161333</td>\n",
       "      <td>57.291634</td>\n",
       "      <td>-16.225747</td>\n",
       "    </tr>\n",
       "  </tbody>\n",
       "</table>\n",
       "</div>"
      ],
      "text/plain": [
       "             STANDARD_NAME  21A                      22A  \\\n",
       "0  A202204211423123m005116  NaN  A202204211423123m005116   \n",
       "1  T202210060350237m154301  NaN                      NaN   \n",
       "2  C202210060349568m152123  NaN                      NaN   \n",
       "3  C202311050349356m152913  NaN                      NaN   \n",
       "4  C202310060349100m161333  NaN                      NaN   \n",
       "\n",
       "                       22B  23A                      23B      ra_obj  \\\n",
       "0                      NaN  NaN                      NaN  215.801045   \n",
       "1  T202210060350237m154301  NaN                      NaN   57.598765   \n",
       "2  C202210060349568m152123  NaN                      NaN   57.486793   \n",
       "3                      NaN  NaN  C202311050349356m152913   57.398318   \n",
       "4                      NaN  NaN  C202310060349100m161333   57.291634   \n",
       "\n",
       "     dec_obj  \n",
       "0  -0.854565  \n",
       "1 -15.716956  \n",
       "2 -15.356516  \n",
       "3 -15.486978  \n",
       "4 -16.225747  "
      ]
     },
     "execution_count": 15,
     "metadata": {},
     "output_type": "execute_result"
    }
   ],
   "source": [
    "interesting_dict = {\"STANDARD_NAME\" : interesting}\n",
    "interesting_df = pd.DataFrame(data = interesting_dict)\n",
    "interesting_df = pd.merge(interesting_df, crossmatch_df, on='STANDARD_NAME', how='inner')\n",
    "interesting_df.rename(columns={\"ra_obj\": \"RA\", \"dec_obj\" : \"DEC\"})\n",
    "interesting_df.head()"
   ]
  },
  {
   "cell_type": "code",
   "execution_count": 16,
   "id": "ec8edebd-c044-432a-a8b5-d73717284b6e",
   "metadata": {
    "tags": []
   },
   "outputs": [
    {
     "data": {
      "text/plain": [
       "Index(['STANDARD_NAME', '21A', '22A', '22B', '23A', '23B', 'ra_obj',\n",
       "       'dec_obj'],\n",
       "      dtype='object')"
      ]
     },
     "execution_count": 16,
     "metadata": {},
     "output_type": "execute_result"
    }
   ],
   "source": [
    "interesting_df.columns"
   ]
  },
  {
   "cell_type": "code",
   "execution_count": null,
   "id": "e69c4cf1-4d50-434a-87f9-e0759d6da1f2",
   "metadata": {},
   "outputs": [],
   "source": []
  }
 ],
 "metadata": {
  "kernelspec": {
   "display_name": "DESI main",
   "language": "python",
   "name": "desi-main"
  },
  "language_info": {
   "codemirror_mode": {
    "name": "ipython",
    "version": 3
   },
   "file_extension": ".py",
   "mimetype": "text/x-python",
   "name": "python",
   "nbconvert_exporter": "python",
   "pygments_lexer": "ipython3",
   "version": "3.10.14"
  }
 },
 "nbformat": 4,
 "nbformat_minor": 5
}
