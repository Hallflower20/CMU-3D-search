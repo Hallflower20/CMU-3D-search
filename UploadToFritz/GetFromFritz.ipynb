{
 "cells": [
  {
   "cell_type": "code",
   "execution_count": 59,
   "metadata": {},
   "outputs": [],
   "source": [
    "import pandas as pd\n",
    "import matplotlib.pyplot as plt\n",
    "import numpy as np\n",
    "import os\n",
    "from matplotlib.backends.backend_pdf import PdfPages\n",
    "from astropy.wcs import WCS\n",
    "from astropy import units as u\n",
    "from astropy.coordinates import SkyCoord\n",
    "#pd.options.mode.copy_on_write = True\n",
    "from astropy.table import Table\n",
    "from astropy.cosmology import FlatLambdaCDM\n",
    "import multiprocessing as mp\n",
    "from tqdm import tqdm\n",
    "from astropy.time import Time\n",
    "cosmo = FlatLambdaCDM(name='Planck18', H0=67.66, Om0=0.30966, Tcmb0=2.7255, Neff=3.046, m_nu=[0.  , 0.  , 0.06]* u.eV, Ob0=0.04897)\n",
    "cores = 8"
   ]
  },
  {
   "cell_type": "code",
   "execution_count": 9,
   "metadata": {},
   "outputs": [],
   "source": [
    "import base64\n",
    "import gzip\n",
    "import io\n",
    "import logging\n",
    "import os\n",
    "import glob\n",
    "import time\n",
    "from copy import deepcopy\n",
    "from datetime import datetime\n",
    "from typing import Mapping, Optional\n",
    "\n",
    "import matplotlib.pyplot as plt\n",
    "import numpy as np\n",
    "import pandas as pd\n",
    "import requests\n",
    "from astropy.io import fits\n",
    "from astropy.stats import sigma_clipped_stats\n",
    "from astropy.time import Time\n",
    "from astropy.visualization import (\n",
    "    AsymmetricPercentileInterval,\n",
    "    ImageNormalize,\n",
    "    LinearStretch,\n",
    "    LogStretch,\n",
    ")\n",
    "from requests.adapters import HTTPAdapter\n",
    "from requests.packages.urllib3.util.retry import Retry\n",
    "from colorama import init as colorama_init\n",
    "from colorama import Fore, Style\n",
    "\n",
    "#import threading\n",
    "#from threading import Thread\n",
    "import multiprocessing as mp"
   ]
  },
  {
   "cell_type": "code",
   "execution_count": 10,
   "metadata": {},
   "outputs": [],
   "source": [
    "import GetLightcurve\n",
    "import SendToSkyportal"
   ]
  },
  {
   "cell_type": "code",
   "execution_count": 51,
   "metadata": {},
   "outputs": [],
   "source": [
    "crossmatch_df = pd.read_csv('../CrossMatch/DESIRT_one_arcsecond_crossmatch_final_list.csv')\n",
    "DESIRT_lc = pd.read_csv('../LightCurves/DESIRT_lightcurves_final_list.csv')"
   ]
  },
  {
   "cell_type": "code",
   "execution_count": 12,
   "metadata": {},
   "outputs": [],
   "source": [
    "base_name = \"DESIRT_PIPE\"\n",
    "group_ids = [1721]\n",
    "filter_ids = [1157]\n",
    "instrument_id = 54\n",
    "stream_id = 1006\n",
    "token_skyportal = os.getenv(\"FRITZ_TOKEN\")\n",
    "endpoint = \"fritz.science\"\n",
    "origin = \"DESIRT_BOT\"\n",
    "filter_dict = {b'g': \"desg\", b'i': \"desi\", b'r': \"desr\", b'z': \"desz\", b'u': \"desu\"}"
   ]
  },
  {
   "cell_type": "code",
   "execution_count": 13,
   "metadata": {},
   "outputs": [],
   "source": [
    "def api(method, path, data):\n",
    "    headers = {'Authorization': f'token {token_skyportal}'}\n",
    "    response = requests.request(method, path, params=data, headers=headers)\n",
    "    return response"
   ]
  },
  {
   "cell_type": "code",
   "execution_count": 79,
   "metadata": {},
   "outputs": [],
   "source": [
    "def api_post(method, path, data):\n",
    "    headers = {'Authorization': f'token {token_skyportal}'}\n",
    "    response = requests.request(method, path, json=data, headers=headers)\n",
    "    return response"
   ]
  },
  {
   "cell_type": "code",
   "execution_count": 38,
   "metadata": {},
   "outputs": [],
   "source": [
    "def get_favorites(pageNumber):\n",
    "    \"\"\"\n",
    "    Grab all favorites from DESIRT\n",
    "    \"\"\"\n",
    "    data = {\n",
    "        \"numPerPage\" : 500,\n",
    "        \"group_ids\": group_ids,\n",
    "        \"listName\": \"favorites\",\n",
    "        \"pageNumber\": pageNumber\n",
    "    }\n",
    "    response = api(\"GET\", f\"https://{endpoint}/api/sources\", data)\n",
    "    return response"
   ]
  },
  {
   "cell_type": "code",
   "execution_count": 89,
   "metadata": {},
   "outputs": [],
   "source": [
    "def request_f_phot(ObjID, date):\n",
    "    \"\"\"\n",
    "    Request ZTF forced phot for a given source.\n",
    "    \"\"\"\n",
    "    \n",
    "    payload = {\n",
    "        \"start_date\" : date[0],\n",
    "        \"end_date\" : date[1],\n",
    "        \"position\" : \"Source (object's coordinates)\",\n",
    "        \"request_type\" : \"forced_photometry\",\n",
    "    }\n",
    "    \n",
    "    data = {\n",
    "        \"obj_id\" : ObjID,\n",
    "        \"allocation_id\" : 1052,\n",
    "        \"target_group_ids\" : group_ids,\n",
    "        \"payload\" : payload,\n",
    "    }\n",
    "    response = api_post(\"POST\", f\"https://{endpoint}/api/followup_request\", data)\n",
    "    return response"
   ]
  },
  {
   "cell_type": "code",
   "execution_count": 110,
   "metadata": {},
   "outputs": [],
   "source": [
    "def get_start_end_dates(ObjID, crossmatch):\n",
    "    df_photometry = GetLightcurve.full_dataframe([ObjID, crossmatch])[['STANDARD_NAME', 'SEMESTER_NAME', 'SCIENCE_NAME', 'TEMPLATE_NAME', 'MJD_OBS', 'FILTER', 'DETPOS',\n",
    "       'X_OBJ', 'Y_OBJ', 'X_FPHOT', 'Y_FPHOT', 'X_nSTAR', 'Y_nSTAR', 'X_nGAL',\n",
    "       'Y_nGAL', 'X_ALT', 'Y_ALT', 'MAG_ALT', 'MAGERR_ALT', 'SNR_ALT',\n",
    "       'CNNSCORE_ALT', 'ZMIN_TEMP', 'ZMAX_TEMP', 'ZMIN_SCI', 'ZMAX_SCI',\n",
    "       'ZMIN_DIFF', 'ZMAX_DIFF', 'APER_FPHOT', 'ZP_FPHOT', 'LIM_MAG3',\n",
    "       'LIM_MAG5', 'MAG_FPHOT', 'MAGERR_FPHOT', 'SNR_FPHOT', 'STATUS_FPHOT',\n",
    "       'REAL', 'LIMIT']]\n",
    "    \n",
    "    df_photometry.drop_duplicates(subset = [\"MAG_FPHOT\", \"MAGERR_FPHOT\", \"MJD_OBS\", \"FILTER\"], inplace = True)\n",
    "    filters = [filter_dict[i] for i in df_photometry[\"FILTER\"]]\n",
    "    \n",
    "    obs_dates = df_photometry[\"MJD_OBS\"]\n",
    "    buffer = 28\n",
    "    obs_dates_pre = np.min(obs_dates) + buffer\n",
    "    obs_dates_post = np.max(obs_dates) - buffer\n",
    "\n",
    "    obs_dates = Time([obs_dates_pre, obs_dates_post], format = \"mjd\")\n",
    "    obs_dates_datetime = obs_dates.to_datetime()\n",
    "    \n",
    "    obs_dates_strings = []\n",
    "    for i in obs_dates_datetime:\n",
    "        temp = i.isoformat().split(\"T\")\n",
    "        temp_hours = temp[1].split(\".\")[0]\n",
    "        temp_date = temp[0]\n",
    "        obs_dates_strings.append(\"{} {}\".format(temp_date, temp_hours))\n",
    "        \n",
    "    return obs_dates_strings"
   ]
  },
  {
   "cell_type": "code",
   "execution_count": 40,
   "metadata": {},
   "outputs": [],
   "source": [
    "response = get_favorites(1)\n",
    "response2 = get_favorites(2)"
   ]
  },
  {
   "cell_type": "code",
   "execution_count": 43,
   "metadata": {},
   "outputs": [],
   "source": [
    "sources_list = response.json()[\"data\"][\"sources\"]\n",
    "sources_list.extend(response2.json()[\"data\"][\"sources\"])"
   ]
  },
  {
   "cell_type": "code",
   "execution_count": 44,
   "metadata": {},
   "outputs": [
    {
     "data": {
      "text/plain": [
       "649"
      ]
     },
     "execution_count": 44,
     "metadata": {},
     "output_type": "execute_result"
    }
   ],
   "source": [
    "len(sources_list)"
   ]
  },
  {
   "cell_type": "code",
   "execution_count": 45,
   "metadata": {},
   "outputs": [
    {
     "data": {
      "text/plain": [
       "649"
      ]
     },
     "execution_count": 45,
     "metadata": {},
     "output_type": "execute_result"
    }
   ],
   "source": [
    "ObjIDs = []\n",
    "for i in sources_list:\n",
    "    ObjIDs.append(i[\"id\"])\n",
    "ObjIDs = np.array(ObjIDs)\n",
    "len(ObjIDs)"
   ]
  },
  {
   "cell_type": "code",
   "execution_count": 46,
   "metadata": {},
   "outputs": [],
   "source": [
    "np.save(\"interesting\", ObjIDs)"
   ]
  },
  {
   "cell_type": "code",
   "execution_count": 52,
   "metadata": {},
   "outputs": [],
   "source": [
    "ObjID = ObjIDs[0]\n",
    "crossmatch = crossmatch_df"
   ]
  },
  {
   "cell_type": "code",
   "execution_count": 53,
   "metadata": {},
   "outputs": [
    {
     "data": {
      "text/plain": [
       "'A202204211423123m005116'"
      ]
     },
     "execution_count": 53,
     "metadata": {},
     "output_type": "execute_result"
    }
   ],
   "source": [
    "ObjID"
   ]
  },
  {
   "cell_type": "code",
   "execution_count": 54,
   "metadata": {},
   "outputs": [],
   "source": [
    "df_photometry = GetLightcurve.full_dataframe([ObjID, crossmatch])[['STANDARD_NAME', 'SEMESTER_NAME', 'SCIENCE_NAME', 'TEMPLATE_NAME', 'MJD_OBS', 'FILTER', 'DETPOS',\n",
    "       'X_OBJ', 'Y_OBJ', 'X_FPHOT', 'Y_FPHOT', 'X_nSTAR', 'Y_nSTAR', 'X_nGAL',\n",
    "       'Y_nGAL', 'X_ALT', 'Y_ALT', 'MAG_ALT', 'MAGERR_ALT', 'SNR_ALT',\n",
    "       'CNNSCORE_ALT', 'ZMIN_TEMP', 'ZMAX_TEMP', 'ZMIN_SCI', 'ZMAX_SCI',\n",
    "       'ZMIN_DIFF', 'ZMAX_DIFF', 'APER_FPHOT', 'ZP_FPHOT', 'LIM_MAG3',\n",
    "       'LIM_MAG5', 'MAG_FPHOT', 'MAGERR_FPHOT', 'SNR_FPHOT', 'STATUS_FPHOT',\n",
    "       'REAL', 'LIMIT']]\n",
    "    \n",
    "df_photometry.drop_duplicates(subset = [\"MAG_FPHOT\", \"MAGERR_FPHOT\", \"MJD_OBS\", \"FILTER\"], inplace = True)\n",
    "filters = [filter_dict[i] for i in df_photometry[\"FILTER\"]]"
   ]
  },
  {
   "cell_type": "code",
   "execution_count": 63,
   "metadata": {},
   "outputs": [],
   "source": [
    "obs_dates = df_photometry[\"MJD_OBS\"]\n",
    "buffer = 28\n",
    "obs_dates_pre = np.min(obs_dates) + buffer\n",
    "obs_dates_post = np.max(obs_dates) - buffer\n",
    "\n",
    "obs_dates = Time([obs_dates_pre, obs_dates_post], format = \"mjd\")\n",
    "obs_dates_datetime = obs_dates.to_datetime()"
   ]
  },
  {
   "cell_type": "code",
   "execution_count": 75,
   "metadata": {},
   "outputs": [],
   "source": [
    "obs_dates_strings = []\n",
    "for i in obs_dates_datetime:\n",
    "    temp = i.isoformat().split(\"T\")\n",
    "    temp_hours = temp[1].split(\".\")[0]\n",
    "    temp_date = temp[0]\n",
    "    obs_dates_strings.append(\"{} {}\".format(temp_date, temp_hours))"
   ]
  },
  {
   "cell_type": "code",
   "execution_count": 90,
   "metadata": {},
   "outputs": [],
   "source": [
    "response = request_f_phot(ObjID, obs_dates_strings)"
   ]
  },
  {
   "cell_type": "code",
   "execution_count": 92,
   "metadata": {},
   "outputs": [
    {
     "data": {
      "text/plain": [
       "<Response [200]>"
      ]
     },
     "execution_count": 92,
     "metadata": {},
     "output_type": "execute_result"
    }
   ],
   "source": [
    "response"
   ]
  },
  {
   "cell_type": "code",
   "execution_count": 107,
   "metadata": {},
   "outputs": [
    {
     "data": {
      "text/plain": [
       "649"
      ]
     },
     "execution_count": 107,
     "metadata": {},
     "output_type": "execute_result"
    }
   ],
   "source": [
    "queue = [[ObjIDs[i], crossmatch_df] for i in range(len(ObjIDs))]\n",
    "len(queue)"
   ]
  },
  {
   "cell_type": "code",
   "execution_count": 113,
   "metadata": {},
   "outputs": [
    {
     "name": "stderr",
     "output_type": "stream",
     "text": [
      "100%|██████████| 649/649 [15:04<00:00,  1.39s/it]\n"
     ]
    }
   ],
   "source": [
    "response_list = []\n",
    "for i in tqdm(queue):\n",
    "    start_end_dates = get_start_end_dates(i[0], i[1])\n",
    "    response_list.append(request_f_phot(i[0], start_end_dates))\n",
    "    time.sleep(0.1)"
   ]
  },
  {
   "cell_type": "code",
   "execution_count": 102,
   "metadata": {},
   "outputs": [
    {
     "data": {
      "text/plain": [
       "649"
      ]
     },
     "execution_count": 102,
     "metadata": {},
     "output_type": "execute_result"
    }
   ],
   "source": [
    "len(ObjIDs)"
   ]
  },
  {
   "cell_type": "code",
   "execution_count": null,
   "metadata": {},
   "outputs": [],
   "source": []
  }
 ],
 "metadata": {
  "kernelspec": {
   "display_name": "NERSC Python",
   "language": "python",
   "name": "python3"
  },
  "language_info": {
   "codemirror_mode": {
    "name": "ipython",
    "version": 3
   },
   "file_extension": ".py",
   "mimetype": "text/x-python",
   "name": "python",
   "nbconvert_exporter": "python",
   "pygments_lexer": "ipython3",
   "version": "3.11.7"
  }
 },
 "nbformat": 4,
 "nbformat_minor": 4
}
