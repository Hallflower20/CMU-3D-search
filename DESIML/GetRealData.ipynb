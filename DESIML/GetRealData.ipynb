{
 "cells": [
  {
   "cell_type": "code",
   "execution_count": 1,
   "id": "91130d5c-aef2-4ca4-961f-46e3996a4d8a",
   "metadata": {
    "tags": []
   },
   "outputs": [],
   "source": [
    "import pandas as pd\n",
    "import matplotlib.pyplot as plt\n",
    "import numpy as np\n",
    "import os\n",
    "import sys\n",
    "from glob import glob\n",
    "from matplotlib.backends.backend_pdf import PdfPages\n",
    "from astropy import units as u\n",
    "from astropy.coordinates import SkyCoord\n",
    "#pd.options.mode.copy_on_write = True\n",
    "from astropy.table import Table\n",
    "from astropy.cosmology import FlatLambdaCDM\n",
    "import multiprocessing as mp\n",
    "from tqdm import tqdm\n",
    "cosmo = FlatLambdaCDM(name='Planck18', H0=67.66, Om0=0.30966, Tcmb0=2.7255, Neff=3.046, m_nu=[0.  , 0.  , 0.06]* u.eV, Ob0=0.04897)\n",
    "cores = 8\n",
    "plt.style.use('ggplot')"
   ]
  },
  {
   "cell_type": "code",
   "execution_count": 2,
   "id": "e42b52e2-3f07-4b7e-be06-3331617d04d1",
   "metadata": {
    "tags": []
   },
   "outputs": [],
   "source": [
    "from desispec.io import read_spectra\n",
    "from desitrip.preproc import rebin_flux, rescale_flux\n",
    "\n",
    "from glob import glob"
   ]
  },
  {
   "cell_type": "code",
   "execution_count": 3,
   "id": "6d43fabe-e7eb-4e1b-8c82-c870f67a8027",
   "metadata": {
    "tags": []
   },
   "outputs": [],
   "source": [
    "import warnings\n",
    "warnings.filterwarnings('ignore')\n",
    "warnings.filterwarnings('ignore', message='.*read_spectra.*')"
   ]
  },
  {
   "cell_type": "code",
   "execution_count": 6,
   "id": "65d95e4f-b7c4-43c9-a701-dfee39b4a42b",
   "metadata": {
    "tags": []
   },
   "outputs": [],
   "source": [
    "minw, maxw, nbins = 2500., 9000., 160"
   ]
  },
  {
   "cell_type": "code",
   "execution_count": 9,
   "id": "9115ba73-db50-4f06-b4c9-c539c14a8d47",
   "metadata": {
    "tags": []
   },
   "outputs": [],
   "source": [
    "def drop_nan(mytable):\n",
    "    has_nan = np.zeros(len(mytable), dtype=bool)\n",
    "    for col in mytable.itercols():\n",
    "        if col.info.dtype.kind == 'f':\n",
    "            has_nan |= np.isnan(col)\n",
    "    mytable_no_nan = mytable[~has_nan]\n",
    "    return mytable_no_nan"
   ]
  },
  {
   "cell_type": "code",
   "execution_count": 10,
   "id": "f37af5ff-9dd3-431f-8daf-695ac9528c0d",
   "metadata": {
    "tags": []
   },
   "outputs": [],
   "source": [
    "def condition_tde(coadd_files):\n",
    "    \"\"\"Read DESI spectra, rebin to a subsampled logarithmic wavelength grid, and rescale.\n",
    "    \n",
    "    Parameters\n",
    "    ----------\n",
    "    coadd_files : list or ndarray\n",
    "        List of ascii files\n",
    "    \n",
    "    Returns\n",
    "    -------\n",
    "    fluxes : ndarray\n",
    "        Array of fluxes rebinned to a logarithmic wavelength grid.\n",
    "    \"\"\"\n",
    "    fluxes = []\n",
    "    \n",
    "    for cf in coadd_files:\n",
    "        which = len(Table.read(cf, format = \"ascii\").colnames)\n",
    "        if(which == 3):\n",
    "            spectra = drop_nan(Table.read(cf, format = \"ascii\", names = [\"wave\", \"flux\", \"flux_err\"]))\n",
    "            wave = spectra[\"wave\"]\n",
    "            flux = spectra[\"flux\"]\n",
    "            ivar = spectra[\"flux_err\"]\n",
    "        elif(which == 6):\n",
    "            spectra = drop_nan(Table.read(cf, format = \"ascii\", names = [\"wave\", \"flux\", \"sky_flux\", \"flux_err\", \"xpixel\", \"ypixel\", \"resopnse\"]))\n",
    "            wave = spectra[\"wave\"]\n",
    "            flux = spectra[\"flux\"]\n",
    "            ivar = spectra[\"flux_err\"]\n",
    "        elif(which == 2):\n",
    "            spectra = drop_nan(Table.read(cf, format = \"ascii\", names = [\"wave\", \"flux\"]))\n",
    "            wave = spectra[\"wave\"]\n",
    "            flux = spectra[\"flux\"]\n",
    "            ivar = None\n",
    "\n",
    "#         # Pre-condition: remove spectra with NaNs and zero flux values.\n",
    "#         mask = np.isnan(flux).any(axis=1) | (np.count_nonzero(flux, axis=1) == 0)\n",
    "#         mask_idx = np.argwhere(mask)\n",
    "#         flux = np.delete(flux, mask_idx, axis=0)\n",
    "#         ivar = np.delete(ivar, mask_idx, axis=0)\n",
    "\n",
    "        # Rebin and rescale fluxes so that each is normalized between 0 and 1.\n",
    "        rewave, reflux, reivar = rebin_flux(wave, flux, ivar, minwave=minw, maxwave=maxw, nbins=nbins, log=True, clip=True)\n",
    "        rsflux = rescale_flux(reflux)\n",
    "\n",
    "        fluxes.append(rsflux)\n",
    "    return fluxes"
   ]
  },
  {
   "cell_type": "code",
   "execution_count": 11,
   "id": "1510b0f6-aac8-4fae-a89e-1273fe28b082",
   "metadata": {
    "tags": []
   },
   "outputs": [],
   "source": [
    "def condition_spectra(coadd_files, truth_files):\n",
    "    \"\"\"Read DESI spectra, rebin to a subsampled logarithmic wavelength grid, and rescale.\n",
    "    \n",
    "    Parameters\n",
    "    ----------\n",
    "    coadd_files : list or ndarray\n",
    "        List of FITS files on disk with DESI spectra.\n",
    "    truth_files : list or ndarray\n",
    "        Truth files.\n",
    "    \n",
    "    Returns\n",
    "    -------\n",
    "    fluxes : ndarray\n",
    "        Array of fluxes rebinned to a logarithmic wavelength grid.\n",
    "    \"\"\"\n",
    "    fluxes = None\n",
    "    \n",
    "    for cf, tf in zip(coadd_files, truth_files):\n",
    "        spectra = read_spectra(cf)\n",
    "        wave = spectra.wave['brz']\n",
    "        flux = spectra.flux['brz']\n",
    "        ivar = spectra.ivar['brz']\n",
    "        \n",
    "        truth = Table.read(tf, 'TRUTH')\n",
    "        try:\n",
    "            truez = truth['TRUEZ']\n",
    "        except:\n",
    "            print(truth)\n",
    "            print(cf, tf)\n",
    "\n",
    "#         # Pre-condition: remove spectra with NaNs and zero flux values.\n",
    "#         mask = np.isnan(flux).any(axis=1) | (np.count_nonzero(flux, axis=1) == 0)\n",
    "#         mask_idx = np.argwhere(mask)\n",
    "#         flux = np.delete(flux, mask_idx, axis=0)\n",
    "#         ivar = np.delete(ivar, mask_idx, axis=0)\n",
    "\n",
    "        # Rebin and rescale fluxes so that each is normalized between 0 and 1.\n",
    "        rewave, reflux, reivar = rebin_flux(wave, flux, ivar, truez, minwave=minw, maxwave=maxw, nbins=nbins, log=True, clip=True)\n",
    "        rsflux = rescale_flux(reflux)\n",
    "\n",
    "        if fluxes is None:\n",
    "            fluxes = rsflux\n",
    "        else:\n",
    "            fluxes = np.concatenate((fluxes, rsflux))\n",
    "    \n",
    "    return fluxes"
   ]
  },
  {
   "cell_type": "code",
   "execution_count": 12,
   "id": "e50fce45-e695-496e-8c4e-4b5ed48d9fb3",
   "metadata": {
    "tags": []
   },
   "outputs": [
    {
     "data": {
      "text/plain": [
       "(56, 160)"
      ]
     },
     "execution_count": 12,
     "metadata": {},
     "output_type": "execute_result"
    }
   ],
   "source": [
    "tde_files = sorted(glob(\"TDE_Spectra/*.ascii\"))\n",
    "tde_flux = np.asarray(condition_tde(tde_files))\n",
    "tde_flux.shape"
   ]
  },
  {
   "cell_type": "code",
   "execution_count": null,
   "id": "81b04d2d-e77d-4c38-8164-9287ef37bada",
   "metadata": {
    "tags": []
   },
   "outputs": [],
   "source": []
  },
  {
   "cell_type": "code",
   "execution_count": null,
   "id": "6d4fce3c-5f28-479a-9eac-5898932d4092",
   "metadata": {},
   "outputs": [],
   "source": []
  }
 ],
 "metadata": {
  "kernelspec": {
   "display_name": "DESI main",
   "language": "python",
   "name": "desi-main"
  },
  "language_info": {
   "codemirror_mode": {
    "name": "ipython",
    "version": 3
   },
   "file_extension": ".py",
   "mimetype": "text/x-python",
   "name": "python",
   "nbconvert_exporter": "python",
   "pygments_lexer": "ipython3",
   "version": "3.10.14"
  }
 },
 "nbformat": 4,
 "nbformat_minor": 5
}
