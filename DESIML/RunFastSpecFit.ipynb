{
 "cells": [
  {
   "cell_type": "code",
   "execution_count": 1,
   "id": "5226c104-6bce-47a5-ae7e-3f05fe23d84c",
   "metadata": {},
   "outputs": [],
   "source": [
    "import pandas as pd\n",
    "import matplotlib.pyplot as plt\n",
    "import numpy as np\n",
    "import os\n",
    "import sys\n",
    "from glob import glob\n",
    "from matplotlib.backends.backend_pdf import PdfPages\n",
    "from astropy import units as u\n",
    "from astropy.coordinates import SkyCoord\n",
    "#pd.options.mode.copy_on_write = True\n",
    "from astropy.table import Table\n",
    "from astropy.cosmology import FlatLambdaCDM\n",
    "import multiprocessing as mp\n",
    "from tqdm import tqdm\n",
    "cosmo = FlatLambdaCDM(name='Planck18', H0=67.66, Om0=0.30966, Tcmb0=2.7255, Neff=3.046, m_nu=[0.  , 0.  , 0.06]* u.eV, Ob0=0.04897)\n",
    "cores = 8\n",
    "plt.style.use('ggplot')"
   ]
  },
  {
   "cell_type": "code",
   "execution_count": 2,
   "id": "84db5f42-72a7-49e1-bc49-77e3e97b2cbc",
   "metadata": {
    "tags": []
   },
   "outputs": [],
   "source": [
    "from desispec.io import read_spectra\n",
    "from desitrip.preproc import rebin_flux, rescale_flux"
   ]
  },
  {
   "cell_type": "code",
   "execution_count": null,
   "id": "5795d8c0-7b3f-4ee4-a53e-7d88e72d27d9",
   "metadata": {},
   "outputs": [],
   "source": []
  }
 ],
 "metadata": {
  "kernelspec": {
   "display_name": "DESI main",
   "language": "python",
   "name": "desi-main"
  },
  "language_info": {
   "codemirror_mode": {
    "name": "ipython",
    "version": 3
   },
   "file_extension": ".py",
   "mimetype": "text/x-python",
   "name": "python",
   "nbconvert_exporter": "python",
   "pygments_lexer": "ipython3",
   "version": "3.10.14"
  }
 },
 "nbformat": 4,
 "nbformat_minor": 5
}
