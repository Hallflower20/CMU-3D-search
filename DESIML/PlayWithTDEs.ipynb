{
 "cells": [
  {
   "cell_type": "code",
   "execution_count": 40,
   "id": "d30da0ea-ff2b-4691-9535-885b3c3e438d",
   "metadata": {
    "tags": []
   },
   "outputs": [],
   "source": [
    "import pandas as pd\n",
    "import matplotlib.pyplot as plt\n",
    "import numpy as np\n",
    "import os\n",
    "import sys\n",
    "from glob import glob\n",
    "from matplotlib.backends.backend_pdf import PdfPages\n",
    "from astropy import units as u\n",
    "from astropy.coordinates import SkyCoord\n",
    "#pd.options.mode.copy_on_write = True\n",
    "from astropy.table import Table\n",
    "from astropy.cosmology import FlatLambdaCDM\n",
    "import multiprocessing as mp\n",
    "from tqdm import tqdm\n",
    "import astropy.io.fits as fits\n",
    "cosmo = FlatLambdaCDM(name='Planck18', H0=67.66, Om0=0.30966, Tcmb0=2.7255, Neff=3.046, m_nu=[0.  , 0.  , 0.06]* u.eV, Ob0=0.04897)\n",
    "cores = 8\n",
    "plt.style.use('ggplot')"
   ]
  },
  {
   "cell_type": "code",
   "execution_count": 22,
   "id": "dc7f50c5-b131-4eb1-8274-aa27afea1b9d",
   "metadata": {
    "tags": []
   },
   "outputs": [],
   "source": [
    "from desispec.io import read_spectra\n",
    "from desitrip.preproc import rebin_flux, rescale_flux\n",
    "\n",
    "from glob import glob"
   ]
  },
  {
   "cell_type": "code",
   "execution_count": 49,
   "id": "0865f6b4-5028-4b4f-ad78-812e6fe10662",
   "metadata": {
    "tags": []
   },
   "outputs": [],
   "source": [
    "minw, maxw, nbins = 3500., 8000., 160"
   ]
  },
  {
   "cell_type": "code",
   "execution_count": 15,
   "id": "6b169ec4-610b-4774-a389-f235320b6891",
   "metadata": {
    "tags": []
   },
   "outputs": [],
   "source": [
    "def drop_nan(mytable):\n",
    "    has_nan = np.zeros(len(mytable), dtype=bool)\n",
    "    for col in mytable.itercols():\n",
    "        if col.info.dtype.kind == 'f':\n",
    "            has_nan |= np.isnan(col)\n",
    "    mytable_no_nan = mytable[~has_nan]\n",
    "    return mytable_no_nan"
   ]
  },
  {
   "cell_type": "code",
   "execution_count": 16,
   "id": "1ec91b4f-704b-4843-bc7f-654b30a1c674",
   "metadata": {
    "tags": []
   },
   "outputs": [],
   "source": [
    "def condition_tde(coadd_files):\n",
    "    \"\"\"Read DESI spectra, rebin to a subsampled logarithmic wavelength grid, and rescale.\n",
    "    \n",
    "    Parameters\n",
    "    ----------\n",
    "    coadd_files : list or ndarray\n",
    "        List of ascii files\n",
    "    \n",
    "    Returns\n",
    "    -------\n",
    "    fluxes : ndarray\n",
    "        Array of fluxes rebinned to a logarithmic wavelength grid.\n",
    "    \"\"\"\n",
    "    fluxes = []\n",
    "    \n",
    "    for cf in coadd_files:\n",
    "        which = len(Table.read(cf, format = \"ascii\").colnames)\n",
    "        if(which == 3):\n",
    "            spectra = drop_nan(Table.read(cf, format = \"ascii\", names = [\"wave\", \"flux\", \"flux_err\"]))\n",
    "            wave = spectra[\"wave\"]\n",
    "            flux = spectra[\"flux\"]\n",
    "            ivar = spectra[\"flux_err\"]\n",
    "        elif(which == 6):\n",
    "            spectra = drop_nan(Table.read(cf, format = \"ascii\", names = [\"wave\", \"flux\", \"sky_flux\", \"flux_err\", \"xpixel\", \"ypixel\", \"resopnse\"]))\n",
    "            wave = spectra[\"wave\"]\n",
    "            flux = spectra[\"flux\"]\n",
    "            ivar = spectra[\"flux_err\"]\n",
    "        elif(which == 2):\n",
    "            spectra = drop_nan(Table.read(cf, format = \"ascii\", names = [\"wave\", \"flux\"]))\n",
    "            wave = spectra[\"wave\"]\n",
    "            flux = spectra[\"flux\"]\n",
    "            ivar = None\n",
    "\n",
    "#         # Pre-condition: remove spectra with NaNs and zero flux values.\n",
    "#         mask = np.isnan(flux).any(axis=1) | (np.count_nonzero(flux, axis=1) == 0)\n",
    "#         mask_idx = np.argwhere(mask)\n",
    "#         flux = np.delete(flux, mask_idx, axis=0)\n",
    "#         ivar = np.delete(ivar, mask_idx, axis=0)\n",
    "\n",
    "        # Rebin and rescale fluxes so that each is normalized between 0 and 1.\n",
    "        spectra_table = Table()\n",
    "        spectra_table[\"wave\"] = wave\n",
    "        spectra_table[\"flux\"] = flux\n",
    "\n",
    "        fluxes.append(spectra_table)\n",
    "    return fluxes"
   ]
  },
  {
   "cell_type": "code",
   "execution_count": 17,
   "id": "d3c28571-3c2c-4c57-bb75-54cd4fda565a",
   "metadata": {
    "tags": []
   },
   "outputs": [],
   "source": [
    "def normalize_tde(tables):\n",
    "    \"\"\"Read DESI spectra, rebin to a subsampled logarithmic wavelength grid, and rescale.\n",
    "    \n",
    "    Parameters\n",
    "    ----------\n",
    "    coadd_files : list or ndarray\n",
    "        List of ascii files\n",
    "    \n",
    "    Returns\n",
    "    -------\n",
    "    fluxes : ndarray\n",
    "        Array of fluxes rebinned to a logarithmic wavelength grid.\n",
    "    \"\"\"\n",
    "    fluxes = []\n",
    "    \n",
    "    for cf in tables:\n",
    "        wave = cf[\"wave\"]\n",
    "        flux = cf[\"flux\"]\n",
    "\n",
    "#         # Pre-condition: remove spectra with NaNs and zero flux values.\n",
    "#         mask = np.isnan(flux).any(axis=1) | (np.count_nonzero(flux, axis=1) == 0)\n",
    "#         mask_idx = np.argwhere(mask)\n",
    "#         flux = np.delete(flux, mask_idx, axis=0)\n",
    "#         ivar = np.delete(ivar, mask_idx, axis=0)\n",
    "\n",
    "        # Rebin and rescale fluxes so that each is normalized between 0 and 1.\n",
    "        rewave, reflux, reivar = rebin_flux(wave, flux, minwave=minw, maxwave=maxw, nbins=nbins, log=True, clip=True)\n",
    "        rsflux = rescale_flux(reflux)\n",
    "\n",
    "        fluxes.append(rsflux)\n",
    "    return fluxes"
   ]
  },
  {
   "cell_type": "code",
   "execution_count": 41,
   "id": "9870290d-8af2-4e42-b8bc-6ff37e9c8f55",
   "metadata": {
    "tags": []
   },
   "outputs": [],
   "source": [
    "tde_files = sorted(glob(\"TDE_Spectra/*.ascii\"))\n",
    "tde_tables = condition_tde(tde_files)"
   ]
  },
  {
   "cell_type": "code",
   "execution_count": 50,
   "id": "65bae047-cb63-405e-9c14-f54fa37d0382",
   "metadata": {
    "tags": []
   },
   "outputs": [],
   "source": [
    "unredshifted_tdes = []\n",
    "zs = np.linspace(0.21, 1.21, 21)\n",
    "for i in tde_tables:\n",
    "    for z in zs:\n",
    "        new_tde = Table()\n",
    "        redshifted_wave = i[\"wave\"]/(1 + z)\n",
    "        redshifted_wave_cutoffs = np.where((redshifted_wave > minw) & (redshifted_wave < maxw))\n",
    "        new_tde[\"wave\"] = i[\"wave\"][redshifted_wave_cutoffs]\n",
    "        new_tde[\"flux\"] = i[\"flux\"][redshifted_wave_cutoffs]\n",
    "        unredshifted_tdes.append(new_tde)"
   ]
  },
  {
   "cell_type": "code",
   "execution_count": 54,
   "id": "80cc8a50-527c-4c98-ab0b-9d032d2fcd26",
   "metadata": {
    "tags": []
   },
   "outputs": [
    {
     "data": {
      "text/html": [
       "<div><i>Table length=1256</i>\n",
       "<table id=\"table139942613081520\" class=\"table-striped table-bordered table-condensed\">\n",
       "<thead><tr><th>wave</th><th>flux</th></tr></thead>\n",
       "<thead><tr><th>float64</th><th>float64</th></tr></thead>\n",
       "<tr><td>5286.66047935</td><td>2.85724e-15</td></tr>\n",
       "<tr><td>5288.83587437</td><td>2.94108e-15</td></tr>\n",
       "<tr><td>5291.01126938</td><td>2.91795e-15</td></tr>\n",
       "<tr><td>5293.18666439</td><td>2.96881e-15</td></tr>\n",
       "<tr><td>5295.3620594</td><td>2.904e-15</td></tr>\n",
       "<tr><td>5297.53745441</td><td>2.88082e-15</td></tr>\n",
       "<tr><td>5299.71284943</td><td>2.90797e-15</td></tr>\n",
       "<tr><td>5301.88824444</td><td>2.91961e-15</td></tr>\n",
       "<tr><td>5304.06363945</td><td>2.95796e-15</td></tr>\n",
       "<tr><td>5306.23903446</td><td>2.93858e-15</td></tr>\n",
       "<tr><td>...</td><td>...</td></tr>\n",
       "<tr><td>7997.20266418</td><td>1.37125e-15</td></tr>\n",
       "<tr><td>7999.3780592</td><td>1.38977e-15</td></tr>\n",
       "<tr><td>8001.55345421</td><td>1.39278e-15</td></tr>\n",
       "<tr><td>8003.72884922</td><td>1.3781e-15</td></tr>\n",
       "<tr><td>8005.90424423</td><td>1.40798e-15</td></tr>\n",
       "<tr><td>8008.07963924</td><td>1.39831e-15</td></tr>\n",
       "<tr><td>8010.25503426</td><td>1.41281e-15</td></tr>\n",
       "<tr><td>8012.43042927</td><td>1.39895e-15</td></tr>\n",
       "<tr><td>8014.60582428</td><td>1.3279e-15</td></tr>\n",
       "<tr><td>8016.78121929</td><td>1.31382e-15</td></tr>\n",
       "</table></div>"
      ],
      "text/plain": [
       "<Table length=1256>\n",
       "     wave         flux   \n",
       "   float64      float64  \n",
       "------------- -----------\n",
       "5286.66047935 2.85724e-15\n",
       "5288.83587437 2.94108e-15\n",
       "5291.01126938 2.91795e-15\n",
       "5293.18666439 2.96881e-15\n",
       " 5295.3620594   2.904e-15\n",
       "5297.53745441 2.88082e-15\n",
       "5299.71284943 2.90797e-15\n",
       "5301.88824444 2.91961e-15\n",
       "5304.06363945 2.95796e-15\n",
       "5306.23903446 2.93858e-15\n",
       "          ...         ...\n",
       "7997.20266418 1.37125e-15\n",
       " 7999.3780592 1.38977e-15\n",
       "8001.55345421 1.39278e-15\n",
       "8003.72884922  1.3781e-15\n",
       "8005.90424423 1.40798e-15\n",
       "8008.07963924 1.39831e-15\n",
       "8010.25503426 1.41281e-15\n",
       "8012.43042927 1.39895e-15\n",
       "8014.60582428  1.3279e-15\n",
       "8016.78121929 1.31382e-15"
      ]
     },
     "execution_count": 54,
     "metadata": {},
     "output_type": "execute_result"
    }
   ],
   "source": [
    "unredshifted_tdes[6] "
   ]
  },
  {
   "cell_type": "code",
   "execution_count": 27,
   "id": "7cf08241-ca20-4617-84ff-cdf249cdfb04",
   "metadata": {
    "tags": []
   },
   "outputs": [
    {
     "data": {
      "text/plain": [
       "(1176, 160)"
      ]
     },
     "execution_count": 27,
     "metadata": {},
     "output_type": "execute_result"
    }
   ],
   "source": [
    "tde_flux = np.asarray(normalize_tde(unredshifted_tdes))\n",
    "tde_flux.shape"
   ]
  },
  {
   "cell_type": "code",
   "execution_count": 29,
   "id": "95eacc2a-1830-46ad-ab82-81b3e2e9aded",
   "metadata": {
    "tags": []
   },
   "outputs": [],
   "source": [
    "path = \"/global/cfs/cdirs/desi/spectro/templates\""
   ]
  },
  {
   "cell_type": "code",
   "execution_count": 39,
   "id": "7a8958a0-8f1d-447f-a276-4f67d03d682b",
   "metadata": {
    "tags": []
   },
   "outputs": [
    {
     "data": {
      "text/html": [
       "<div><i>Table length=104</i>\n",
       "<table id=\"table139942963564496\" class=\"table-striped table-bordered table-condensed\">\n",
       "<thead><tr><th>TEMPLATEID</th><th>EPOCH</th></tr></thead>\n",
       "<thead><tr><th>int32</th><th>float32</th></tr></thead>\n",
       "<tr><td>0</td><td>-18.0</td></tr>\n",
       "<tr><td>1</td><td>-17.0</td></tr>\n",
       "<tr><td>2</td><td>-16.0</td></tr>\n",
       "<tr><td>3</td><td>-15.0</td></tr>\n",
       "<tr><td>4</td><td>-14.0</td></tr>\n",
       "<tr><td>5</td><td>-13.0</td></tr>\n",
       "<tr><td>6</td><td>-12.0</td></tr>\n",
       "<tr><td>7</td><td>-11.0</td></tr>\n",
       "<tr><td>8</td><td>-10.0</td></tr>\n",
       "<tr><td>9</td><td>-9.0</td></tr>\n",
       "<tr><td>...</td><td>...</td></tr>\n",
       "<tr><td>94</td><td>76.0</td></tr>\n",
       "<tr><td>95</td><td>77.0</td></tr>\n",
       "<tr><td>96</td><td>78.0</td></tr>\n",
       "<tr><td>97</td><td>79.0</td></tr>\n",
       "<tr><td>98</td><td>80.0</td></tr>\n",
       "<tr><td>99</td><td>81.0</td></tr>\n",
       "<tr><td>100</td><td>82.0</td></tr>\n",
       "<tr><td>101</td><td>83.0</td></tr>\n",
       "<tr><td>102</td><td>84.0</td></tr>\n",
       "<tr><td>103</td><td>85.0</td></tr>\n",
       "</table></div>"
      ],
      "text/plain": [
       "<Table length=104>\n",
       "TEMPLATEID  EPOCH \n",
       "  int32    float32\n",
       "---------- -------\n",
       "         0   -18.0\n",
       "         1   -17.0\n",
       "         2   -16.0\n",
       "         3   -15.0\n",
       "         4   -14.0\n",
       "         5   -13.0\n",
       "         6   -12.0\n",
       "         7   -11.0\n",
       "         8   -10.0\n",
       "         9    -9.0\n",
       "       ...     ...\n",
       "        94    76.0\n",
       "        95    77.0\n",
       "        96    78.0\n",
       "        97    79.0\n",
       "        98    80.0\n",
       "        99    81.0\n",
       "       100    82.0\n",
       "       101    83.0\n",
       "       102    84.0\n",
       "       103    85.0"
      ]
     },
     "execution_count": 39,
     "metadata": {},
     "output_type": "execute_result"
    }
   ],
   "source": [
    "Table(fits.open(\"/global/cfs/cdirs/desi/spectro/templates/sne_templates/v1.0/sne_templates_v1.0.fits\")[1].data)"
   ]
  },
  {
   "cell_type": "code",
   "execution_count": null,
   "id": "bed03826-9fa1-41f8-be42-e07217aaa660",
   "metadata": {},
   "outputs": [],
   "source": []
  }
 ],
 "metadata": {
  "kernelspec": {
   "display_name": "DESI main",
   "language": "python",
   "name": "desi-main"
  },
  "language_info": {
   "codemirror_mode": {
    "name": "ipython",
    "version": 3
   },
   "file_extension": ".py",
   "mimetype": "text/x-python",
   "name": "python",
   "nbconvert_exporter": "python",
   "pygments_lexer": "ipython3",
   "version": "3.10.14"
  }
 },
 "nbformat": 4,
 "nbformat_minor": 5
}
