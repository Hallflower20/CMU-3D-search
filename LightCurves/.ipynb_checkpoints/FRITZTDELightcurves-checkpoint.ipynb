{
 "cells": [
  {
   "cell_type": "code",
   "execution_count": 1,
   "metadata": {},
   "outputs": [],
   "source": [
    "import pandas as pd\n",
    "import matplotlib.pyplot as plt\n",
    "import numpy as np\n",
    "import os\n",
    "import sys\n",
    "from matplotlib.backends.backend_pdf import PdfPages\n",
    "from astropy.wcs import WCS\n",
    "from astropy import units as u\n",
    "from astropy.coordinates import SkyCoord\n",
    "#pd.options.mode.copy_on_write = True\n",
    "from astropy.table import Table\n",
    "from astropy.cosmology import FlatLambdaCDM\n",
    "import multiprocessing as mp\n",
    "from tqdm import tqdm\n",
    "from astropy.time import Time\n",
    "cosmo = FlatLambdaCDM(name='Planck18', H0=67.66, Om0=0.30966, Tcmb0=2.7255, Neff=3.046, m_nu=[0.  , 0.  , 0.06]* u.eV, Ob0=0.04897)\n",
    "cores = 8"
   ]
  },
  {
   "cell_type": "code",
   "execution_count": 2,
   "metadata": {},
   "outputs": [],
   "source": [
    "import base64\n",
    "import gzip\n",
    "import io\n",
    "import logging\n",
    "import os\n",
    "import glob\n",
    "import time\n",
    "from copy import deepcopy\n",
    "from datetime import datetime\n",
    "from typing import Mapping, Optional\n",
    "\n",
    "import matplotlib.pyplot as plt\n",
    "import numpy as np\n",
    "import pandas as pd\n",
    "import requests\n",
    "from astropy.io import fits\n",
    "from astropy.stats import sigma_clipped_stats\n",
    "from astropy.time import Time\n",
    "from astropy.visualization import (\n",
    "    AsymmetricPercentileInterval,\n",
    "    ImageNormalize,\n",
    "    LinearStretch,\n",
    "    LogStretch,\n",
    ")\n",
    "from requests.adapters import HTTPAdapter\n",
    "from requests.packages.urllib3.util.retry import Retry\n",
    "from colorama import init as colorama_init\n",
    "from colorama import Fore, Style\n",
    "\n",
    "#import threading\n",
    "#from threading import Thread\n",
    "import multiprocessing as mp"
   ]
  },
  {
   "cell_type": "code",
   "execution_count": 3,
   "metadata": {},
   "outputs": [],
   "source": [
    "sys.path.append('../UploadToFritz')\n",
    "import GetLightcurve\n",
    "import SendToSkyportal"
   ]
  },
  {
   "cell_type": "code",
   "execution_count": 4,
   "metadata": {},
   "outputs": [],
   "source": [
    "#base_name = \"DESIRT_PIPE\"\n",
    "group_ids = [280, 41, 80]\n",
    "#filter_ids = [1157]\n",
    "#instrument_id = 54\n",
    "#stream_id = 1006\n",
    "token_skyportal = os.getenv(\"FRITZ_TOKEN\")\n",
    "endpoint = \"fritz.science\"\n",
    "origin = \"DESIRT_BOT\"\n",
    "filter_dict = {b'g': \"desg\", b'i': \"desi\", b'r': \"desr\", b'z': \"desz\", b'u': \"desu\"}"
   ]
  },
  {
   "cell_type": "code",
   "execution_count": 5,
   "metadata": {},
   "outputs": [],
   "source": [
    "def api(method, path, data):\n",
    "    headers = {'Authorization': f'token {token_skyportal}'}\n",
    "    response = requests.request(method, path, params=data, headers=headers)\n",
    "    return response"
   ]
  },
  {
   "cell_type": "code",
   "execution_count": 6,
   "metadata": {},
   "outputs": [],
   "source": [
    "def get_tde(pageNumber):\n",
    "    \"\"\"\n",
    "    Grab all favorites from DESIRT\n",
    "    \"\"\"\n",
    "    data = {\n",
    "        \"numPerPage\" : 100,\n",
    "        \"group_ids\": group_ids,\n",
    "        \"classifications\": \"Sitewide Taxonomy: Tidal Disruption Event\",\n",
    "    }\n",
    "    response = api(\"GET\", f\"https://{endpoint}/api/sources\", data)\n",
    "    return response"
   ]
  },
  {
   "cell_type": "code",
   "execution_count": 7,
   "metadata": {},
   "outputs": [],
   "source": [
    "def get_lc(objid):\n",
    "    \"\"\"\n",
    "    Get a lightcurve given an objid\n",
    "    \"\"\"\n",
    "    data = {\n",
    "        \"deduplicatePhotometry\" : True\n",
    "    }\n",
    "    response = api(\"GET\", f\"https://{endpoint}/api/sources/{objid}/photometry\", data)\n",
    "    return response"
   ]
  },
  {
   "cell_type": "code",
   "execution_count": 8,
   "metadata": {},
   "outputs": [],
   "source": [
    "response = get_tde(1)"
   ]
  },
  {
   "cell_type": "code",
   "execution_count": 9,
   "metadata": {},
   "outputs": [],
   "source": [
    "output = response.json()[\"data\"]\n",
    "sources_list = output[\"sources\"]"
   ]
  },
  {
   "cell_type": "code",
   "execution_count": 10,
   "metadata": {},
   "outputs": [
    {
     "data": {
      "text/plain": [
       "68"
      ]
     },
     "execution_count": 10,
     "metadata": {},
     "output_type": "execute_result"
    }
   ],
   "source": [
    "ObjIDs = []\n",
    "for i in sources_list:\n",
    "    ObjIDs.append(i[\"id\"])\n",
    "ObjIDs = np.array(ObjIDs)\n",
    "len(ObjIDs)"
   ]
  },
  {
   "cell_type": "code",
   "execution_count": 23,
   "metadata": {},
   "outputs": [],
   "source": [
    "lc = pd.DataFrame.from_dict(get_lc(ObjIDs[2]).json()[\"data\"])\n",
    "lc_real = Table.from_pandas(lc.dropna(subset=['mag']))"
   ]
  },
  {
   "cell_type": "code",
   "execution_count": 35,
   "metadata": {},
   "outputs": [],
   "source": [
    "p = PdfPages('tde_ztf_percentile.pdf')\n",
    "for objid in ObjIDs:\n",
    "    lc = pd.DataFrame.from_dict(get_lc(objid).json()[\"data\"])\n",
    "    lc_real = Table.from_pandas(lc.dropna(subset=['mag']))\n",
    "    \n",
    "    curfig = plt.figure(figsize=[20,12])\n",
    "    for i in np.unique(lc_real[\"filter\"]):\n",
    "        lc_real_filter = lc_real[np.where(lc_real[\"filter\"] == i)]\n",
    "        plt.errorbar(lc_real_filter[\"mjd\"], lc_real_filter[\"mag\"], lc_real_filter[\"magerr\"], fmt = \"o\", label = i)\n",
    "    low_mjd = np.percentile(lc_real[\"mjd\"], 10) - 14\n",
    "    high_mjd = np.max(lc_real[\"mjd\"])\n",
    "    plt.xlim(low_mjd, high_mjd)\n",
    "    low_mag = np.percentile(lc_real[\"mag\"], 1) - 0.5\n",
    "    high_mag = np.percentile(lc_real[\"mag\"], 99) + 0.5\n",
    "    plt.ylim(low_mag, high_mag)\n",
    "    plt.title(objid)\n",
    "    plt.legend()\n",
    "    plt.gca().invert_yaxis()\n",
    "    p.savefig(curfig)\n",
    "    plt.close()\n",
    "p.close() "
   ]
  },
  {
   "cell_type": "code",
   "execution_count": null,
   "metadata": {},
   "outputs": [],
   "source": []
  }
 ],
 "metadata": {
  "kernelspec": {
   "display_name": "Python 3",
   "language": "python",
   "name": "python3"
  },
  "language_info": {
   "codemirror_mode": {
    "name": "ipython",
    "version": 3
   },
   "file_extension": ".py",
   "mimetype": "text/x-python",
   "name": "python",
   "nbconvert_exporter": "python",
   "pygments_lexer": "ipython3",
   "version": "3.8.3"
  }
 },
 "nbformat": 4,
 "nbformat_minor": 4
}
