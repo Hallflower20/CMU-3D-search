{
 "cells": [
  {
   "cell_type": "code",
   "execution_count": 1,
   "metadata": {},
   "outputs": [],
   "source": [
    "import pandas as pd\n",
    "import matplotlib.pyplot as plt\n",
    "import numpy as np\n",
    "import os\n",
    "import sys\n",
    "from matplotlib.backends.backend_pdf import PdfPages\n",
    "from astropy.wcs import WCS\n",
    "from astropy import units as u\n",
    "from astropy.coordinates import SkyCoord\n",
    "#pd.options.mode.copy_on_write = True\n",
    "from astropy.table import Table\n",
    "from astropy.cosmology import FlatLambdaCDM\n",
    "import multiprocessing as mp\n",
    "from tqdm import tqdm\n",
    "from astropy.table import join\n",
    "cosmo = FlatLambdaCDM(name='Planck18', H0=67.66, Om0=0.30966, Tcmb0=2.7255, Neff=3.046, m_nu=[0.  , 0.  , 0.06]* u.eV, Ob0=0.04897)\n",
    "cores = 8"
   ]
  },
  {
   "cell_type": "code",
   "execution_count": 2,
   "metadata": {},
   "outputs": [],
   "source": [
    "sys.path.append('../UploadToFritz')\n",
    "import GetLightcurve\n",
    "\n",
    "def get_fphot(data):\n",
    "    objid, crossmatch = data\n",
    "    df_photometry = GetLightcurve.full_dataframe([objid, crossmatch])[['STANDARD_NAME', 'SEMESTER_NAME', 'SCIENCE_NAME', 'TEMPLATE_NAME', 'MJD_OBS', 'FILTER', 'DETPOS',\n",
    "       'X_OBJ', 'Y_OBJ', 'X_FPHOT', 'Y_FPHOT', 'X_nSTAR', 'Y_nSTAR', 'X_nGAL',\n",
    "       'Y_nGAL', 'X_ALT', 'Y_ALT', 'MAG_ALT', 'MAGERR_ALT', 'SNR_ALT',\n",
    "       'CNNSCORE_ALT', 'ZMIN_TEMP', 'ZMAX_TEMP', 'ZMIN_SCI', 'ZMAX_SCI',\n",
    "       'ZMIN_DIFF', 'ZMAX_DIFF', 'APER_FPHOT', 'ZP_FPHOT', 'LIM_MAG3',\n",
    "       'LIM_MAG5', 'MAG_FPHOT', 'MAGERR_FPHOT', 'SNR_FPHOT', 'STATUS_FPHOT',\n",
    "       'REAL', 'LIMIT']]\n",
    "    \n",
    "    df_photometry.drop_duplicates(subset = [\"MAG_FPHOT\", \"MAGERR_FPHOT\", \"MJD_OBS\", \"FILTER\"], inplace = True)\n",
    "    \n",
    "    return df_photometry"
   ]
  },
  {
   "cell_type": "code",
   "execution_count": 3,
   "metadata": {},
   "outputs": [
    {
     "data": {
      "text/html": [
       "<div>\n",
       "<style scoped>\n",
       "    .dataframe tbody tr th:only-of-type {\n",
       "        vertical-align: middle;\n",
       "    }\n",
       "\n",
       "    .dataframe tbody tr th {\n",
       "        vertical-align: top;\n",
       "    }\n",
       "\n",
       "    .dataframe thead th {\n",
       "        text-align: right;\n",
       "    }\n",
       "</style>\n",
       "<table border=\"1\" class=\"dataframe\">\n",
       "  <thead>\n",
       "    <tr style=\"text-align: right;\">\n",
       "      <th></th>\n",
       "      <th>STANDARD_NAME</th>\n",
       "      <th>21A</th>\n",
       "      <th>22A</th>\n",
       "      <th>22B</th>\n",
       "      <th>23A</th>\n",
       "      <th>23B</th>\n",
       "      <th>RA</th>\n",
       "      <th>DEC</th>\n",
       "      <th>Z</th>\n",
       "      <th>Z_ERR</th>\n",
       "      <th>SPECTYPE</th>\n",
       "      <th>OBSERVATION_STATUS</th>\n",
       "    </tr>\n",
       "  </thead>\n",
       "  <tbody>\n",
       "    <tr>\n",
       "      <th>0</th>\n",
       "      <td>A202204211423123m005116</td>\n",
       "      <td>NaN</td>\n",
       "      <td>A202204211423123m005116</td>\n",
       "      <td>NaN</td>\n",
       "      <td>NaN</td>\n",
       "      <td>NaN</td>\n",
       "      <td>215.801045</td>\n",
       "      <td>-0.854565</td>\n",
       "      <td>0.190317</td>\n",
       "      <td>0.000025</td>\n",
       "      <td>QSO</td>\n",
       "      <td>Y</td>\n",
       "    </tr>\n",
       "    <tr>\n",
       "      <th>1</th>\n",
       "      <td>T202210060350237m154301</td>\n",
       "      <td>NaN</td>\n",
       "      <td>NaN</td>\n",
       "      <td>T202210060350237m154301</td>\n",
       "      <td>NaN</td>\n",
       "      <td>NaN</td>\n",
       "      <td>57.598765</td>\n",
       "      <td>-15.716956</td>\n",
       "      <td>0.230973</td>\n",
       "      <td>0.000004</td>\n",
       "      <td>GALAXY</td>\n",
       "      <td>Y</td>\n",
       "    </tr>\n",
       "    <tr>\n",
       "      <th>2</th>\n",
       "      <td>C202210060349568m152123</td>\n",
       "      <td>NaN</td>\n",
       "      <td>NaN</td>\n",
       "      <td>C202210060349568m152123</td>\n",
       "      <td>NaN</td>\n",
       "      <td>NaN</td>\n",
       "      <td>57.486793</td>\n",
       "      <td>-15.356516</td>\n",
       "      <td>NaN</td>\n",
       "      <td>NaN</td>\n",
       "      <td>NaN</td>\n",
       "      <td>N</td>\n",
       "    </tr>\n",
       "    <tr>\n",
       "      <th>3</th>\n",
       "      <td>C202311050349356m152913</td>\n",
       "      <td>NaN</td>\n",
       "      <td>NaN</td>\n",
       "      <td>NaN</td>\n",
       "      <td>NaN</td>\n",
       "      <td>C202311050349356m152913</td>\n",
       "      <td>57.398318</td>\n",
       "      <td>-15.486978</td>\n",
       "      <td>0.143206</td>\n",
       "      <td>0.000002</td>\n",
       "      <td>GALAXY</td>\n",
       "      <td>Y</td>\n",
       "    </tr>\n",
       "    <tr>\n",
       "      <th>4</th>\n",
       "      <td>C202310060349100m161333</td>\n",
       "      <td>NaN</td>\n",
       "      <td>NaN</td>\n",
       "      <td>NaN</td>\n",
       "      <td>NaN</td>\n",
       "      <td>C202310060349100m161333</td>\n",
       "      <td>57.291634</td>\n",
       "      <td>-16.225747</td>\n",
       "      <td>NaN</td>\n",
       "      <td>NaN</td>\n",
       "      <td>NaN</td>\n",
       "      <td>N</td>\n",
       "    </tr>\n",
       "  </tbody>\n",
       "</table>\n",
       "</div>"
      ],
      "text/plain": [
       "             STANDARD_NAME  21A                      22A  \\\n",
       "0  A202204211423123m005116  NaN  A202204211423123m005116   \n",
       "1  T202210060350237m154301  NaN                      NaN   \n",
       "2  C202210060349568m152123  NaN                      NaN   \n",
       "3  C202311050349356m152913  NaN                      NaN   \n",
       "4  C202310060349100m161333  NaN                      NaN   \n",
       "\n",
       "                       22B  23A                      23B          RA  \\\n",
       "0                      NaN  NaN                      NaN  215.801045   \n",
       "1  T202210060350237m154301  NaN                      NaN   57.598765   \n",
       "2  C202210060349568m152123  NaN                      NaN   57.486793   \n",
       "3                      NaN  NaN  C202311050349356m152913   57.398318   \n",
       "4                      NaN  NaN  C202310060349100m161333   57.291634   \n",
       "\n",
       "         DEC         Z     Z_ERR SPECTYPE OBSERVATION_STATUS  \n",
       "0  -0.854565  0.190317  0.000025      QSO                  Y  \n",
       "1 -15.716956  0.230973  0.000004   GALAXY                  Y  \n",
       "2 -15.356516       NaN       NaN      NaN                  N  \n",
       "3 -15.486978  0.143206  0.000002   GALAXY                  Y  \n",
       "4 -16.225747       NaN       NaN      NaN                  N  "
      ]
     },
     "execution_count": 3,
     "metadata": {},
     "output_type": "execute_result"
    }
   ],
   "source": [
    "interesting_df =  pd.read_csv('../MatchToDESI/interesting_desi.csv', index_col = \"Unnamed: 0\")\n",
    "interesting_df.head()"
   ]
  },
  {
   "cell_type": "code",
   "execution_count": 4,
   "metadata": {},
   "outputs": [
    {
     "name": "stderr",
     "output_type": "stream",
     "text": [
      "100%|██████████| 649/649 [00:16<00:00, 38.62it/s]\n"
     ]
    }
   ],
   "source": [
    "queue = [[i, interesting_df] for i in interesting_df[\"STANDARD_NAME\"]]\n",
    "pool = mp.Pool(processes=cores)\n",
    "interesting_lightcurve_dfs = list(tqdm(pool.imap_unordered(get_fphot, queue), total = len(queue)))\n",
    "interesting_lightcurves_df = pd.concat(interesting_lightcurve_dfs)"
   ]
  },
  {
   "cell_type": "code",
   "execution_count": 5,
   "metadata": {},
   "outputs": [],
   "source": [
    "interesting_lightcurves_table = Table.from_pandas(interesting_lightcurves_df)\n",
    "interesting_table = Table.from_pandas(interesting_df)"
   ]
  },
  {
   "cell_type": "code",
   "execution_count": 9,
   "metadata": {},
   "outputs": [],
   "source": [
    "salt_objects = Table.from_pandas(pd.read_csv(\"salt_objects.txt\"))"
   ]
  },
  {
   "cell_type": "code",
   "execution_count": 10,
   "metadata": {},
   "outputs": [],
   "source": [
    "merged_table = join(salt_objects, interesting_table, keys='STANDARD_NAME')"
   ]
  },
  {
   "cell_type": "code",
   "execution_count": 18,
   "metadata": {},
   "outputs": [
    {
     "data": {
      "text/html": [
       "&lt;Column name=&apos;STANDARD_NAME&apos; dtype=&apos;str23&apos; length=8&gt;\n",
       "<table>\n",
       "<tr><td>A202104061415068p022542</td></tr>\n",
       "<tr><td>A202104151408147m001144</td></tr>\n",
       "<tr><td>C202104061410153p022017</td></tr>\n",
       "<tr><td>C202212131051029m061317</td></tr>\n",
       "<tr><td>C202212191049483m063944</td></tr>\n",
       "<tr><td>C202212221055530m052824</td></tr>\n",
       "<tr><td>T202204241509329p082207</td></tr>\n",
       "<tr><td>T202301031055024m074329</td></tr>\n",
       "</table>"
      ],
      "text/plain": [
       "<Column name='STANDARD_NAME' dtype='str23' length=8>\n",
       "A202104061415068p022542\n",
       "A202104151408147m001144\n",
       "C202104061410153p022017\n",
       "C202212131051029m061317\n",
       "C202212191049483m063944\n",
       "C202212221055530m052824\n",
       "T202204241509329p082207\n",
       "T202301031055024m074329"
      ]
     },
     "execution_count": 18,
     "metadata": {},
     "output_type": "execute_result"
    }
   ],
   "source": [
    "merged_table[\"STANDARD_NAME\"]"
   ]
  },
  {
   "cell_type": "code",
   "execution_count": 17,
   "metadata": {},
   "outputs": [
    {
     "data": {
      "text/plain": [
       "['14h15m06.8069s +02d25m42.3135s',\n",
       " '14h08m14.7051s -00d11m43.6752s',\n",
       " '14h10m15.338s +02d20m16.9281s',\n",
       " '10h51m02.8817s -06d13m17.4696s',\n",
       " '10h49m48.2887s -06d39m44.1794s',\n",
       " '10h55m52.9567s -05d28m24.4529s',\n",
       " '15h09m32.912s +08d22m06.6738s',\n",
       " '10h55m02.4446s -07d43m28.754s']"
      ]
     },
     "execution_count": 17,
     "metadata": {},
     "output_type": "execute_result"
    }
   ],
   "source": [
    "coords = SkyCoord(merged_table[\"RA\"], merged_table[\"DEC\"], frame=\"icrs\", unit=\"deg\")\n",
    "coords_string = coords.to_string('hmsdms')\n",
    "coords_string"
   ]
  },
  {
   "cell_type": "code",
   "execution_count": 30,
   "metadata": {},
   "outputs": [],
   "source": [
    "#https://fritz.science/source/C202212221055530m052824 still pretty bright 300 days ago\n",
    "#https://fritz.science/source/A202104151408147m001144 Abs M is -23 according to Photo-z\n",
    "#https://fritz.science/source/C202212131051029m061317 still pretty bright 300 days ago\n",
    "#https://fritz.science/source/A202212191112192m054945 very slow fall"
   ]
  },
  {
   "cell_type": "code",
   "execution_count": null,
   "metadata": {},
   "outputs": [],
   "source": []
  }
 ],
 "metadata": {
  "kernelspec": {
   "display_name": "Python 3",
   "language": "python",
   "name": "python3"
  },
  "language_info": {
   "codemirror_mode": {
    "name": "ipython",
    "version": 3
   },
   "file_extension": ".py",
   "mimetype": "text/x-python",
   "name": "python",
   "nbconvert_exporter": "python",
   "pygments_lexer": "ipython3",
   "version": "3.8.3"
  }
 },
 "nbformat": 4,
 "nbformat_minor": 4
}
