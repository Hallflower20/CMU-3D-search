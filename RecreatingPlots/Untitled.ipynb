{
 "cells": [
  {
   "cell_type": "code",
   "execution_count": 1,
   "metadata": {},
   "outputs": [],
   "source": [
    "import pandas as pd\n",
    "import matplotlib.pyplot as plt\n",
    "import numpy as np\n",
    "import os\n",
    "import sys\n",
    "from matplotlib.backends.backend_pdf import PdfPages\n",
    "from astropy.wcs import WCS\n",
    "from astropy import units as u\n",
    "from astropy.coordinates import SkyCoord\n",
    "#pd.options.mode.copy_on_write = True\n",
    "from astropy.table import Table\n",
    "from astropy.cosmology import FlatLambdaCDM\n",
    "import multiprocessing as mp\n",
    "from tqdm import tqdm\n",
    "cosmo = FlatLambdaCDM(name='Planck18', H0=67.66, Om0=0.30966, Tcmb0=2.7255, Neff=3.046, m_nu=[0.  , 0.  , 0.06]* u.eV, Ob0=0.04897)\n",
    "cores = 8"
   ]
  },
  {
   "cell_type": "code",
   "execution_count": 2,
   "metadata": {},
   "outputs": [],
   "source": [
    "sys.path.append('../UploadToFritz')\n",
    "import GetLightcurve\n",
    "\n",
    "def get_fphot(data):\n",
    "    objid, crossmatch = data\n",
    "    df_photometry = GetLightcurve.full_dataframe([objid, crossmatch])[['STANDARD_NAME', 'SEMESTER_NAME', 'SCIENCE_NAME', 'TEMPLATE_NAME', 'MJD_OBS', 'FILTER', 'DETPOS',\n",
    "       'X_OBJ', 'Y_OBJ', 'X_FPHOT', 'Y_FPHOT', 'X_nSTAR', 'Y_nSTAR', 'X_nGAL',\n",
    "       'Y_nGAL', 'X_ALT', 'Y_ALT', 'MAG_ALT', 'MAGERR_ALT', 'SNR_ALT',\n",
    "       'CNNSCORE_ALT', 'ZMIN_TEMP', 'ZMAX_TEMP', 'ZMIN_SCI', 'ZMAX_SCI',\n",
    "       'ZMIN_DIFF', 'ZMAX_DIFF', 'APER_FPHOT', 'ZP_FPHOT', 'LIM_MAG3',\n",
    "       'LIM_MAG5', 'MAG_FPHOT', 'MAGERR_FPHOT', 'SNR_FPHOT', 'STATUS_FPHOT',\n",
    "       'REAL', 'LIMIT']]\n",
    "    \n",
    "    df_photometry.drop_duplicates(subset = [\"MAG_FPHOT\", \"MAGERR_FPHOT\", \"MJD_OBS\", \"FILTER\"], inplace = True)\n",
    "    \n",
    "    return df_photometry"
   ]
  },
  {
   "cell_type": "code",
   "execution_count": 3,
   "metadata": {},
   "outputs": [],
   "source": [
    "crossmatch_df =  pd.read_csv('../MatchToDESI/candidates_desi.csv')\n",
    "interesting_df =  pd.read_csv('../MatchToDESI/interesting_desi.csv')"
   ]
  },
  {
   "cell_type": "code",
   "execution_count": 4,
   "metadata": {},
   "outputs": [
    {
     "name": "stderr",
     "output_type": "stream",
     "text": [
      "100%|██████████| 649/649 [00:12<00:00, 51.72it/s]\n"
     ]
    }
   ],
   "source": [
    "queue = [[i, interesting_df] for i in interesting_df[\"STANDARD_NAME\"]]\n",
    "pool = mp.Pool(processes=cores)\n",
    "interesting_lightcurve_dfs = list(tqdm(pool.imap_unordered(get_fphot, queue), total = len(queue)))\n",
    "interesting_lightcurves_df = pd.concat(interesting_lightcurve_dfs)"
   ]
  },
  {
   "cell_type": "code",
   "execution_count": 5,
   "metadata": {},
   "outputs": [],
   "source": [
    "interesting_lightcurves_table = Table.from_pandas(interesting_lightcurves_df)\n",
    "interesting_table = Table.from_pandas(interesting_df)"
   ]
  },
  {
   "cell_type": "code",
   "execution_count": 6,
   "metadata": {},
   "outputs": [],
   "source": [
    "np.unique(interesting_lightcurves_table[\"FILTER\"])\n",
    "filter_dict = {\"g\" : \"green\", \"i\" : \"indigo\" , \"r\" : \"red\", \"z\" : \"orange\"}"
   ]
  },
  {
   "cell_type": "code",
   "execution_count": 8,
   "metadata": {},
   "outputs": [],
   "source": [
    "p = PdfPages('interesting_transients.pdf')\n",
    "for row in interesting_table:\n",
    "    curfig = plt.figure(figsize=[10,6])\n",
    "    lc = interesting_lightcurves_table[np.where(interesting_lightcurves_table[\"STANDARD_NAME\"] == row[\"STANDARD_NAME\"])]\n",
    "    lc_real = lc[lc[\"REAL\"]]\n",
    "    brightest_mag = lc_real[np.argmin(lc_real[\"MAG_FPHOT\"])]\n",
    "    for i in np.unique(lc_real[\"FILTER\"]):\n",
    "        lc_real_filter = lc_real[np.where(lc_real[\"FILTER\"] == i)]\n",
    "        before_max = len(lc_real_filter[(lc_real_filter[\"MJD_OBS\"] < brightest_mag[\"MJD_OBS\"])]) > 4\n",
    "        after_max = len(lc_real_filter[(lc_real_filter[\"MJD_OBS\"] > brightest_mag[\"MJD_OBS\"])]) > 6\n",
    "\n",
    "        plt.errorbar(lc_real_filter[\"MJD_OBS\"], lc_real_filter[\"MAG_FPHOT\"], lc_real_filter[\"MAGERR_FPHOT\"], fmt = \"o\", color = filter_dict[i], label = i)\n",
    "        #plt.scatter(lc_real_filter[\"MJD_OBS\"], np.power(10, lc_real_filter[\"MAG_FPHOT\"] / (-2.5)), color = filter_dict[i], label = i)\n",
    "    plt.legend()\n",
    "    plt.gca().invert_yaxis()\n",
    "    plt.title(\"{} z = {:.3f} SPECTYPE = {}\".format(row[\"STANDARD_NAME\"], row[\"Z\"], row[\"SPECTYPE\"]))\n",
    "    p.savefig(curfig)\n",
    "    plt.close()\n",
    "p.close() "
   ]
  },
  {
   "cell_type": "code",
   "execution_count": null,
   "metadata": {},
   "outputs": [],
   "source": []
  }
 ],
 "metadata": {
  "kernelspec": {
   "display_name": "Python 3",
   "language": "python",
   "name": "python3"
  },
  "language_info": {
   "codemirror_mode": {
    "name": "ipython",
    "version": 3
   },
   "file_extension": ".py",
   "mimetype": "text/x-python",
   "name": "python",
   "nbconvert_exporter": "python",
   "pygments_lexer": "ipython3",
   "version": "3.8.3"
  }
 },
 "nbformat": 4,
 "nbformat_minor": 4
}
