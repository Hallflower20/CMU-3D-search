{
 "cells": [
  {
   "cell_type": "code",
   "execution_count": 1,
   "metadata": {},
   "outputs": [],
   "source": [
    "import pandas as pd\n",
    "import matplotlib.pyplot as plt\n",
    "import numpy as np\n",
    "import os\n",
    "import sys\n",
    "from matplotlib.backends.backend_pdf import PdfPages\n",
    "from astropy.wcs import WCS\n",
    "from astropy import units as u\n",
    "from astropy.coordinates import SkyCoord\n",
    "#pd.options.mode.copy_on_write = True\n",
    "from astropy.table import Table\n",
    "from astropy.cosmology import FlatLambdaCDM\n",
    "import multiprocessing as mp\n",
    "from tqdm import tqdm\n",
    "cosmo = FlatLambdaCDM(name='Planck18', H0=67.66, Om0=0.30966, Tcmb0=2.7255, Neff=3.046, m_nu=[0.  , 0.  , 0.06]* u.eV, Ob0=0.04897)\n",
    "cores = 8"
   ]
  },
  {
   "cell_type": "code",
   "execution_count": 2,
   "metadata": {},
   "outputs": [],
   "source": [
    "sys.path.append('../UploadToFritz')\n",
    "import GetLightcurve\n",
    "\n",
    "def get_fphot(data):\n",
    "    objid, crossmatch = data\n",
    "    df_photometry = GetLightcurve.full_dataframe([objid, crossmatch])[['STANDARD_NAME', 'SEMESTER_NAME', 'SCIENCE_NAME', 'TEMPLATE_NAME', 'MJD_OBS', 'FILTER', 'DETPOS',\n",
    "       'X_OBJ', 'Y_OBJ', 'X_FPHOT', 'Y_FPHOT', 'X_nSTAR', 'Y_nSTAR', 'X_nGAL',\n",
    "       'Y_nGAL', 'X_ALT', 'Y_ALT', 'MAG_ALT', 'MAGERR_ALT', 'SNR_ALT',\n",
    "       'CNNSCORE_ALT', 'ZMIN_TEMP', 'ZMAX_TEMP', 'ZMIN_SCI', 'ZMAX_SCI',\n",
    "       'ZMIN_DIFF', 'ZMAX_DIFF', 'APER_FPHOT', 'ZP_FPHOT', 'LIM_MAG3',\n",
    "       'LIM_MAG5', 'MAG_FPHOT', 'MAGERR_FPHOT', 'SNR_FPHOT', 'STATUS_FPHOT',\n",
    "       'REAL', 'LIMIT']]\n",
    "    \n",
    "    df_photometry.drop_duplicates(subset = [\"MAG_FPHOT\", \"MAGERR_FPHOT\", \"MJD_OBS\", \"FILTER\"], inplace = True)\n",
    "    \n",
    "    return df_photometry"
   ]
  },
  {
   "cell_type": "code",
   "execution_count": 3,
   "metadata": {},
   "outputs": [],
   "source": [
    "crossmatch_df =  pd.read_csv('../MatchToDESI/candidates_desi.csv')\n",
    "interesting_df =  pd.read_csv('../MatchToDESI/interesting_desi.csv')"
   ]
  },
  {
   "cell_type": "code",
   "execution_count": 4,
   "metadata": {},
   "outputs": [
    {
     "name": "stderr",
     "output_type": "stream",
     "text": [
      "100%|██████████| 649/649 [00:11<00:00, 57.66it/s]\n"
     ]
    }
   ],
   "source": [
    "queue = [[i, interesting_df] for i in interesting_df[\"STANDARD_NAME\"]]\n",
    "pool = mp.Pool(processes=cores)\n",
    "interesting_lightcurve_dfs = list(tqdm(pool.imap_unordered(get_fphot, queue), total = len(queue)))\n",
    "interesting_lightcurves_df = pd.concat(interesting_lightcurve_dfs)"
   ]
  },
  {
   "cell_type": "code",
   "execution_count": 5,
   "metadata": {},
   "outputs": [
    {
     "name": "stderr",
     "output_type": "stream",
     "text": [
      "100%|██████████| 2339/2339 [00:35<00:00, 65.47it/s]\n"
     ]
    }
   ],
   "source": [
    "queue = [[i, crossmatch_df] for i in crossmatch_df[\"STANDARD_NAME\"]]\n",
    "pool = mp.Pool(processes=cores)\n",
    "crossmatch_lightcurve_dfs = list(tqdm(pool.imap_unordered(get_fphot, queue), total = len(queue)))\n",
    "crossmatch_lightcurve_df = pd.concat(crossmatch_lightcurve_dfs)"
   ]
  },
  {
   "cell_type": "code",
   "execution_count": 6,
   "metadata": {},
   "outputs": [],
   "source": [
    "interesting_lightcurves_table = Table.from_pandas(interesting_lightcurves_df)\n",
    "interesting_table = Table.from_pandas(interesting_df)\n",
    "crossmatch_lightcurves_table = Table.from_pandas(crossmatch_lightcurve_df)\n",
    "crossmatch_table = Table.from_pandas(crossmatch_df)"
   ]
  },
  {
   "cell_type": "code",
   "execution_count": 7,
   "metadata": {},
   "outputs": [],
   "source": [
    "filter_dict = {\"g\" : \"green\", \"i\" : \"indigo\" , \"r\" : \"red\", \"z\" : \"orange\"}"
   ]
  },
  {
   "cell_type": "code",
   "execution_count": 8,
   "metadata": {},
   "outputs": [],
   "source": [
    "#C202208032106241p061948 Good example"
   ]
  },
  {
   "cell_type": "code",
   "execution_count": 9,
   "metadata": {},
   "outputs": [
    {
     "data": {
      "image/png": "[encoded data removed]",
      "text/plain": [
       "<Figure size 432x288 with 1 Axes>"
      ]
     },
     "metadata": {
      "needs_background": "light"
     },
     "output_type": "display_data"
    }
   ],
   "source": [
    "row = interesting_table[203]\n",
    "lc = interesting_lightcurves_table[np.where(interesting_lightcurves_table[\"STANDARD_NAME\"] == row[\"STANDARD_NAME\"])]\n",
    "lc_real = lc[lc[\"REAL\"]]\n",
    "brightest_mag = lc_real[np.argmin(lc_real[\"MAG_FPHOT\"])]\n",
    "for i in np.unique(lc_real[\"FILTER\"]):\n",
    "    lc_real_filter = lc_real[np.where(lc_real[\"FILTER\"] == i)]\n",
    "    plt.errorbar(lc_real_filter[\"MJD_OBS\"], lc_real_filter[\"MAG_FPHOT\"], lc_real_filter[\"MAGERR_FPHOT\"], fmt = \"o\", color = filter_dict[i], label = i)\n",
    "plt.legend()\n",
    "plt.gca().invert_yaxis()"
   ]
  },
  {
   "cell_type": "code",
   "execution_count": 10,
   "metadata": {},
   "outputs": [
    {
     "data": {
      "text/plain": [
       "True"
      ]
     },
     "execution_count": 10,
     "metadata": {},
     "output_type": "execute_result"
    }
   ],
   "source": [
    "num_filters = len(np.unique(lc_real[\"FILTER\"]))\n",
    "before_max = len(lc_real[(lc_real[\"MJD_OBS\"] < brightest_mag[\"MJD_OBS\"])]) > 4\n",
    "after_max = len(lc_real[(lc_real[\"MJD_OBS\"] > brightest_mag[\"MJD_OBS\"])]) > 6\n",
    "ample_observations = before_max and after_max\n",
    "ample_observations"
   ]
  },
  {
   "cell_type": "code",
   "execution_count": 11,
   "metadata": {},
   "outputs": [],
   "source": [
    "def good_example(data):\n",
    "    row, lc = data\n",
    "    lc_real = lc[lc[\"REAL\"]]\n",
    "    brightest_mag = lc_real[np.argmin(lc_real[\"MAG_FPHOT\"])]\n",
    "    good = []\n",
    "    for i in np.unique(lc_real[\"FILTER\"]):\n",
    "        lc_real_filter = lc_real[np.where(lc_real[\"FILTER\"] == i)]\n",
    "        before_max = len(lc_real_filter[(lc_real_filter[\"MJD_OBS\"] < brightest_mag[\"MJD_OBS\"])]) > 4\n",
    "        after_max = len(lc_real_filter[(lc_real_filter[\"MJD_OBS\"] > brightest_mag[\"MJD_OBS\"])]) > 6\n",
    "        ample_observations = before_max and after_max\n",
    "        good.append(ample_observations)\n",
    "        \n",
    "    return np.sum(good) > 0"
   ]
  },
  {
   "cell_type": "code",
   "execution_count": 12,
   "metadata": {},
   "outputs": [
    {
     "data": {
      "text/html": [
       "<i>Table length=32005</i>\n",
       "<table id=\"table22414541886368\" class=\"table-striped table-bordered table-condensed\">\n",
       "<thead><tr><th>STANDARD_NAME</th><th>SEMESTER_NAME</th><th>SCIENCE_NAME</th><th>TEMPLATE_NAME</th><th>MJD_OBS</th><th>FILTER</th><th>DETPOS</th><th>X_OBJ</th><th>Y_OBJ</th><th>X_FPHOT</th><th>Y_FPHOT</th><th>X_nSTAR</th><th>Y_nSTAR</th><th>X_nGAL</th><th>Y_nGAL</th><th>X_ALT</th><th>Y_ALT</th><th>MAG_ALT</th><th>MAGERR_ALT</th><th>SNR_ALT</th><th>CNNSCORE_ALT</th><th>ZMIN_TEMP</th><th>ZMAX_TEMP</th><th>ZMIN_SCI</th><th>ZMAX_SCI</th><th>ZMIN_DIFF</th><th>ZMAX_DIFF</th><th>APER_FPHOT</th><th>ZP_FPHOT</th><th>LIM_MAG3</th><th>LIM_MAG5</th><th>MAG_FPHOT</th><th>MAGERR_FPHOT</th><th>SNR_FPHOT</th><th>STATUS_FPHOT</th><th>REAL</th><th>LIMIT</th></tr></thead>\n",
       "<thead><tr><th>str23</th><th>str23</th><th>bytes30</th><th>bytes28</th><th>float64</th><th>bytes1</th><th>bytes3</th><th>float64</th><th>float64</th><th>float64</th><th>float64</th><th>float64</th><th>float64</th><th>float64</th><th>float64</th><th>float64</th><th>float64</th><th>float64</th><th>float64</th><th>float64</th><th>float64</th><th>float64</th><th>float64</th><th>float64</th><th>float64</th><th>float64</th><th>float64</th><th>float64</th><th>float64</th><th>float64</th><th>float64</th><th>float64</th><th>float64</th><th>float64</th><th>bytes1</th><th>bool</th><th>bool</th></tr></thead>\n",
       "<tr><td>C202212280349025m145944</td><td>C202212280349025m145944</td><td>c4d_220909_090838_xxx_r_v1</td><td>c4d_141121_064157_xxx_r_v1</td><td>59831.38100498</td><td>r</td><td>S24</td><td>431.1702157190084</td><td>43.21766671227086</td><td>431.59777832043073</td><td>42.73094177239233</td><td>387.1261078040752</td><td>34.45539825096141</td><td>432.70922160552254</td><td>43.1020888719013</td><td>--</td><td>--</td><td>--</td><td>--</td><td>--</td><td>--</td><td>-30.742584</td><td>58.69988253231526</td><td>-82.2502064577472</td><td>84.24201368219116</td><td>-85.88097214665413</td><td>85.88097214665413</td><td>19.29</td><td>28.74065</td><td>21.362956777032537</td><td>20.808334902991646</td><td>19.608921676525178</td><td>0.06209992576339317</td><td>17.483112687390708</td><td>q</td><td>True</td><td>False</td></tr>\n",
       "<tr><td>C202212280349025m145944</td><td>C202212280349025m145944</td><td>c4d_220911_082534_xxx_r_v1</td><td>c4d_141121_064157_xxx_r_v1</td><td>59833.35109043</td><td>r</td><td>S24</td><td>431.1702157190084</td><td>43.21766671227086</td><td>431.59777832043073</td><td>42.73094177239233</td><td>387.1261078040752</td><td>34.45539825096141</td><td>432.70922160552254</td><td>43.1020888719013</td><td>--</td><td>--</td><td>--</td><td>--</td><td>--</td><td>--</td><td>-30.742584</td><td>58.69988253231526</td><td>-61.83274</td><td>116.42456114469378</td><td>-116.38560321255288</td><td>116.38560321255288</td><td>12.95</td><td>28.945336</td><td>21.79845014617203</td><td>21.24382827213114</td><td>23.09122320202659</td><td>1.0751439218114216</td><td>1.0098182931367863</td><td>m</td><td>False</td><td>True</td></tr>\n",
       "<tr><td>C202212280349025m145944</td><td>C202212280349025m145944</td><td>c4d_220912_080230_xxx_r_v1</td><td>c4d_141121_064157_xxx_r_v1</td><td>59834.33507951</td><td>r</td><td>S24</td><td>431.1702157190084</td><td>43.21766671227086</td><td>431.59777832043073</td><td>42.73094177239233</td><td>387.1261078040752</td><td>34.45539825096141</td><td>432.70922160552254</td><td>43.1020888719013</td><td>--</td><td>--</td><td>--</td><td>--</td><td>--</td><td>--</td><td>-30.742584</td><td>58.69988253231526</td><td>-92.6552873066002</td><td>70.09758</td><td>-101.69312365729519</td><td>101.69312365729519</td><td>4.99</td><td>29.029946</td><td>23.040964310636063</td><td>22.486342436595173</td><td>23.341812499178705</td><td>0.43063230219649756</td><td>2.5211764060945785</td><td>m</td><td>False</td><td>True</td></tr>\n",
       "<tr><td>C202212280349025m145944</td><td>C202212280349025m145944</td><td>c4d_221116_071325_xxx_r_v1</td><td>c4d_141121_064157_xxx_r_v1</td><td>59899.30099</td><td>r</td><td>S24</td><td>431.1702157190084</td><td>43.21766671227086</td><td>431.59777832043073</td><td>42.73094177239233</td><td>387.1261078040752</td><td>34.45539825096141</td><td>432.70922160552254</td><td>43.1020888719013</td><td>--</td><td>--</td><td>--</td><td>--</td><td>--</td><td>--</td><td>-30.742584</td><td>58.69988253231526</td><td>-52.74317</td><td>57.38077686408064</td><td>-77.88008181988734</td><td>77.88008181988734</td><td>4.75</td><td>29.596187</td><td>23.841024023739774</td><td>23.286402149698883</td><td>27.115229342336107</td><td>5.84937905399787</td><td>0.18560944503296598</td><td>m</td><td>False</td><td>True</td></tr>\n",
       "<tr><td>C202212280349025m145944</td><td>C202212280349025m145944</td><td>c4d_221122_061843_xxx_r_v1</td><td>c4d_141121_064157_xxx_r_v1</td><td>59905.26299819</td><td>r</td><td>S24</td><td>431.1702157190084</td><td>43.21766671227086</td><td>431.59777832043073</td><td>42.73094177239233</td><td>387.1261078040752</td><td>34.45539825096141</td><td>432.70922160552254</td><td>43.1020888719013</td><td>--</td><td>--</td><td>--</td><td>--</td><td>--</td><td>--</td><td>-30.742584</td><td>58.69988253231526</td><td>-34.58329</td><td>39.724838155443074</td><td>-52.17622354292554</td><td>52.17622354292554</td><td>4.76</td><td>29.359322</td><td>24.042833492322</td><td>23.488211618281106</td><td>25.87706827212948</td><td>1.6541751980926012</td><td>0.6563391841758363</td><td>m</td><td>False</td><td>True</td></tr>\n",
       "<tr><td>C202212280349025m145944</td><td>C202212280349025m145944</td><td>c4d_221125_060533_xxx_r_v1</td><td>c4d_141121_064157_xxx_r_v1</td><td>59908.25386226</td><td>r</td><td>S24</td><td>431.1702157190084</td><td>43.21766671227086</td><td>431.59777832043073</td><td>42.73094177239233</td><td>387.1261078040752</td><td>34.45539825096141</td><td>432.70922160552254</td><td>43.1020888719013</td><td>--</td><td>--</td><td>--</td><td>--</td><td>--</td><td>--</td><td>-30.742584</td><td>58.69988253231526</td><td>-21.731567</td><td>41.70760104938254</td><td>-66.65906231020118</td><td>66.65906231020118</td><td>4.75</td><td>29.596187</td><td>24.056438869121024</td><td>23.501816995080134</td><td>25.418976677159755</td><td>1.1048468597497745</td><td>0.9826701233923851</td><td>m</td><td>False</td><td>True</td></tr>\n",
       "<tr><td>C202212280349025m145944</td><td>C202212280349025m145944</td><td>c4d_221213_052401_xxx_r_v1</td><td>c4d_141121_064157_xxx_r_v1</td><td>59926.22502244</td><td>r</td><td>S24</td><td>431.1702157190084</td><td>43.21766671227086</td><td>431.59777832043073</td><td>42.73094177239233</td><td>387.1261078040752</td><td>34.45539825096141</td><td>432.70922160552254</td><td>43.1020888719013</td><td>--</td><td>--</td><td>--</td><td>--</td><td>--</td><td>--</td><td>-30.742584</td><td>58.69988253231526</td><td>-65.7235621978189</td><td>66.7654275621759</td><td>-68.83690163409844</td><td>68.83690163409844</td><td>7.91</td><td>29.335805</td><td>23.13387369110609</td><td>22.579251817065195</td><td>25.080970266358694</td><td>1.706337592094279</td><td>0.6362750284763186</td><td>m</td><td>False</td><td>True</td></tr>\n",
       "<tr><td>C202212280349025m145944</td><td>C202212280349025m145944</td><td>c4d_221219_040835_xxx_r_v1</td><td>c4d_141121_064157_xxx_r_v1</td><td>59932.17263661</td><td>r</td><td>S24</td><td>431.1702157190084</td><td>43.21766671227086</td><td>431.59777832043073</td><td>42.73094177239233</td><td>387.1261078040752</td><td>34.45539825096141</td><td>432.70922160552254</td><td>43.1020888719013</td><td>--</td><td>--</td><td>--</td><td>--</td><td>--</td><td>--</td><td>-30.742584</td><td>58.69988253231526</td><td>-23.586931</td><td>37.567732297976235</td><td>-47.33045006694059</td><td>47.33045006694059</td><td>4.77</td><td>29.304829</td><td>24.143766516932242</td><td>23.589144642891352</td><td>25.423858105659797</td><td>1.0038935891391036</td><td>1.0814891256861698</td><td>m</td><td>False</td><td>True</td></tr>\n",
       "<tr><td>C202212280349025m145944</td><td>C202212280349025m145944</td><td>c4d_221222_042537_xxx_r_v1</td><td>c4d_141121_064157_xxx_r_v1</td><td>59935.18445919</td><td>r</td><td>S24</td><td>431.1702157190084</td><td>43.21766671227086</td><td>431.59777832043073</td><td>42.73094177239233</td><td>387.1261078040752</td><td>34.45539825096141</td><td>432.70922160552254</td><td>43.1020888719013</td><td>--</td><td>--</td><td>--</td><td>--</td><td>--</td><td>--</td><td>-30.742584</td><td>58.69988253231526</td><td>-36.10583709494496</td><td>36.69533034604414</td><td>-39.06741888938766</td><td>39.06741888938766</td><td>5.82</td><td>29.309163</td><td>24.026955577693247</td><td>23.472333703652357</td><td>24.346316368156465</td><td>0.3942398441127867</td><td>2.7539073389279145</td><td>m</td><td>False</td><td>True</td></tr>\n",
       "<tr><td>C202212280349025m145944</td><td>C202212280349025m145944</td><td>c4d_221228_034425_xxx_r_v1</td><td>c4d_141121_064157_xxx_r_v1</td><td>59941.15585101</td><td>r</td><td>S24</td><td>431.1702157190084</td><td>43.21766671227086</td><td>431.59777832043073</td><td>42.73094177239233</td><td>387.1261078040752</td><td>34.45539825096141</td><td>432.70922160552254</td><td>43.1020888719013</td><td>431.8281</td><td>43.0615</td><td>21.715347290039062</td><td>0.0382</td><td>32.07</td><td>0.9999984502792358</td><td>-30.742584</td><td>58.69988253231526</td><td>-42.009346762841155</td><td>42.41940648200911</td><td>-46.10538375635415</td><td>46.10538375635415</td><td>5.08</td><td>29.307265</td><td>23.993415914177483</td><td>23.438794040136592</td><td>21.757808427630547</td><td>0.040435495424707965</td><td>26.850171825435012</td><td>p</td><td>True</td><td>False</td></tr>\n",
       "<tr><td>...</td><td>...</td><td>...</td><td>...</td><td>...</td><td>...</td><td>...</td><td>...</td><td>...</td><td>...</td><td>...</td><td>...</td><td>...</td><td>...</td><td>...</td><td>...</td><td>...</td><td>...</td><td>...</td><td>...</td><td>...</td><td>...</td><td>...</td><td>...</td><td>...</td><td>...</td><td>...</td><td>...</td><td>...</td><td>...</td><td>...</td><td>...</td><td>...</td><td>...</td><td>...</td><td>...</td><td>...</td></tr>\n",
       "<tr><td>T202301031055024m074329</td><td>T202302021055025m074329</td><td>c4d_231227_080419_xxx_r_v1</td><td>c4d_170302_042328_xxx_r_v1</td><td>60305.33633818</td><td>r</td><td>N12</td><td>1828.8802388317627</td><td>461.7712267316014</td><td>1828.819946289122</td><td>461.82876586935043</td><td>1849.9878324179108</td><td>405.1605063916631</td><td>1849.1606044828454</td><td>520.6944220684782</td><td>--</td><td>--</td><td>--</td><td>--</td><td>--</td><td>--</td><td>-16.07608</td><td>34.744203508409846</td><td>-58.07901</td><td>118.577828639933</td><td>-117.69114464489606</td><td>117.69114464489606</td><td>8.15</td><td>29.323807</td><td>22.62347009704279</td><td>22.0688482230019</td><td>24.482658964666058</td><td>1.8042953077994783</td><td>0.6017307673011253</td><td>m</td><td>False</td><td>True</td></tr>\n",
       "<tr><td>T202301031055024m074329</td><td>T202302021055025m074329</td><td>c4d_231229_075137_xxx_r_v1</td><td>c4d_170302_042328_xxx_r_v1</td><td>60307.32751215</td><td>r</td><td>N12</td><td>1828.8802388317627</td><td>461.7712267316014</td><td>1828.819946289122</td><td>461.82876586935043</td><td>1849.9878324179108</td><td>405.1605063916631</td><td>1849.1606044828454</td><td>520.6944220684782</td><td>--</td><td>--</td><td>--</td><td>--</td><td>--</td><td>--</td><td>-16.07608</td><td>34.744203508409846</td><td>-182.11658</td><td>172.9888</td><td>-190.80093</td><td>190.80093</td><td>4.6</td><td>26.735514</td><td>19.59299473625407</td><td>19.03837286221318</td><td>21.39596895045149</td><td>1.825997263343157</td><td>0.5945792043588436</td><td>m</td><td>False</td><td>True</td></tr>\n",
       "<tr><td>T202301031055024m074329</td><td>T202302021055025m074329</td><td>c4d_240104_080813_xxx_g_v1</td><td>c4d_170301_043826_xxx_g_ls9</td><td>60313.33904726</td><td>g</td><td>N12</td><td>1805.6384277343222</td><td>478.54238891599374</td><td>1805.578137884589</td><td>478.5999327921281</td><td>1826.7440921024254</td><td>421.9283613219185</td><td>1825.9199983781741</td><td>537.4673843493044</td><td>--</td><td>--</td><td>--</td><td>--</td><td>--</td><td>--</td><td>-21.357635</td><td>41.20000178012691</td><td>-22.736444</td><td>46.91131048916385</td><td>-56.513443849880076</td><td>56.513443849880076</td><td>5.54</td><td>29.630826</td><td>23.690631697028515</td><td>23.136009822987624</td><td>26.601880512053903</td><td>3.1756712797657713</td><td>0.34188047324598353</td><td>m</td><td>False</td><td>True</td></tr>\n",
       "<tr><td>T202301031055024m074329</td><td>T202302021055025m074329</td><td>c4d_240104_080937_xxx_r_v1</td><td>c4d_170302_042328_xxx_r_v1</td><td>60313.34001292</td><td>r</td><td>N12</td><td>1828.8802388317627</td><td>461.7712267316014</td><td>1828.819946289122</td><td>461.82876586935043</td><td>1849.9878324179108</td><td>405.1605063916631</td><td>1849.1606044828454</td><td>520.6944220684782</td><td>--</td><td>--</td><td>--</td><td>--</td><td>--</td><td>--</td><td>-16.07608</td><td>34.744203508409846</td><td>-35.25592</td><td>66.14828751694519</td><td>-46.200565</td><td>46.200565</td><td>4.41</td><td>29.263393</td><td>23.72601590269103</td><td>23.17139402865014</td><td>25.292188274834256</td><td>1.2641462779820976</td><td>0.8588404830278474</td><td>m</td><td>False</td><td>True</td></tr>\n",
       "<tr><td>T202301031055024m074329</td><td>T202302021055025m074329</td><td>c4d_240107_075151_xxx_r_v1</td><td>c4d_170302_042328_xxx_r_v1</td><td>60316.32767438</td><td>r</td><td>N12</td><td>1828.8802388317627</td><td>461.7712267316014</td><td>1828.819946289122</td><td>461.82876586935043</td><td>1849.9878324179108</td><td>405.1605063916631</td><td>1849.1606044828454</td><td>520.6944220684782</td><td>--</td><td>--</td><td>--</td><td>--</td><td>--</td><td>--</td><td>-16.07608</td><td>34.744203508409846</td><td>-21.522923</td><td>45.06489445147042</td><td>-29.25788</td><td>29.25788</td><td>4.29</td><td>29.323078</td><td>24.032929929221314</td><td>23.478308055180424</td><td>27.96689998329695</td><td>10.149419532657156</td><td>0.10697163483158921</td><td>m</td><td>False</td><td>True</td></tr>\n",
       "<tr><td>T202301031055024m074329</td><td>T202302021055025m074329</td><td>c4d_240116_080820_xxx_r_v1</td><td>c4d_170302_042328_xxx_r_v1</td><td>60325.33912998</td><td>r</td><td>N12</td><td>1828.8802388317627</td><td>461.7712267316014</td><td>1828.819946289122</td><td>461.82876586935043</td><td>1849.9878324179108</td><td>405.1605063916631</td><td>1849.1606044828454</td><td>520.6944220684782</td><td>--</td><td>--</td><td>--</td><td>--</td><td>--</td><td>--</td><td>-16.07608</td><td>34.744203508409846</td><td>-23.969975</td><td>43.09325589369415</td><td>-23.131435</td><td>23.131435</td><td>5.07</td><td>29.299353</td><td>23.88506374816488</td><td>23.33044187412399</td><td>25.316697259541716</td><td>0.960214574730742</td><td>1.130684774603058</td><td>m</td><td>False</td><td>True</td></tr>\n",
       "<tr><td>T202301031055024m074329</td><td>T202302021055025m074329</td><td>c4d_240127_070945_xxx_r_v1</td><td>c4d_170302_042328_xxx_r_v1</td><td>60336.29843881</td><td>r</td><td>N12</td><td>1828.8802388317627</td><td>461.7712267316014</td><td>1828.819946289122</td><td>461.82876586935043</td><td>1849.9878324179108</td><td>405.1605063916631</td><td>1849.1606044828454</td><td>520.6944220684782</td><td>--</td><td>--</td><td>--</td><td>--</td><td>--</td><td>--</td><td>-16.07608</td><td>34.744203508409846</td><td>-107.14744</td><td>172.3157494846707</td><td>-100.87727</td><td>100.87727</td><td>4.99</td><td>29.276476</td><td>22.758737897732153</td><td>22.20411602369126</td><td>22.957058956320836</td><td>0.39444586410219895</td><td>2.7524689667393765</td><td>m</td><td>False</td><td>True</td></tr>\n",
       "<tr><td>T202301031055024m074329</td><td>T202302021055025m074329</td><td>c4d_240128_074855_xxx_g_v1</td><td>c4d_170301_043826_xxx_g_ls9</td><td>60337.32563734</td><td>g</td><td>N12</td><td>1805.6384277343222</td><td>478.54238891599374</td><td>1805.578137884589</td><td>478.5999327921281</td><td>1826.7440921024254</td><td>421.9283613219185</td><td>1825.9199983781741</td><td>537.4673843493044</td><td>--</td><td>--</td><td>--</td><td>--</td><td>--</td><td>--</td><td>-21.357635</td><td>41.20000178012691</td><td>-79.8313</td><td>153.31003466922684</td><td>-133.72391397375404</td><td>133.72391397375404</td><td>5.54</td><td>29.630826</td><td>22.420809198453746</td><td>21.866187324412856</td><td>24.32500197225009</td><td>0.972368737524122</td><td>1.1165517340309048</td><td>m</td><td>False</td><td>True</td></tr>\n",
       "<tr><td>T202301031055024m074329</td><td>T202302021055025m074329</td><td>c4d_240128_075019_xxx_z_v1</td><td>c4d_151227_061651_xxx_z_ls9</td><td>60337.32660908</td><td>z</td><td>N12</td><td>1849.8147394373195</td><td>544.05583867813</td><td>1849.7544423528207</td><td>544.1133318761869</td><td>1870.9323410205589</td><td>487.46854730737846</td><td>1870.0783519112952</td><td>602.9788000745216</td><td>--</td><td>--</td><td>--</td><td>--</td><td>--</td><td>--</td><td>-86.92798</td><td>162.17133131361325</td><td>-161.60864</td><td>314.04148363892796</td><td>-202.17240862214743</td><td>202.17240862214743</td><td>5.13</td><td>29.17336</td><td>21.987556427564577</td><td>21.432934553523687</td><td>23.44548582150618</td><td>0.8500980646420364</td><td>1.2771467730104433</td><td>m</td><td>False</td><td>True</td></tr>\n",
       "<tr><td>T202301031055024m074329</td><td>T202302021055025m074329</td><td>c4d_240131_082042_xxx_r_v1</td><td>c4d_170302_042328_xxx_r_v1</td><td>60340.34771781</td><td>r</td><td>N12</td><td>1828.8802388317627</td><td>461.7712267316014</td><td>1828.819946289122</td><td>461.82876586935043</td><td>1849.9878324179108</td><td>405.1605063916631</td><td>1849.1606044828454</td><td>520.6944220684782</td><td>--</td><td>--</td><td>--</td><td>--</td><td>--</td><td>--</td><td>-16.07608</td><td>34.744203508409846</td><td>-53.134693</td><td>86.46141302297562</td><td>-78.281685</td><td>78.281685</td><td>7.72</td><td>29.388385</td><td>22.975461030254284</td><td>22.420839156213393</td><td>23.554449445915036</td><td>0.5207401403052255</td><td>2.084917055488809</td><td>m</td><td>False</td><td>True</td></tr>\n",
       "</table>"
      ],
      "text/plain": [
       "<Table length=32005>\n",
       "     STANDARD_NAME           SEMESTER_NAME      ...  REAL LIMIT\n",
       "         str23                   str23          ...  bool  bool\n",
       "----------------------- ----------------------- ... ----- -----\n",
       "C202212280349025m145944 C202212280349025m145944 ...  True False\n",
       "C202212280349025m145944 C202212280349025m145944 ... False  True\n",
       "C202212280349025m145944 C202212280349025m145944 ... False  True\n",
       "C202212280349025m145944 C202212280349025m145944 ... False  True\n",
       "C202212280349025m145944 C202212280349025m145944 ... False  True\n",
       "C202212280349025m145944 C202212280349025m145944 ... False  True\n",
       "C202212280349025m145944 C202212280349025m145944 ... False  True\n",
       "C202212280349025m145944 C202212280349025m145944 ... False  True\n",
       "C202212280349025m145944 C202212280349025m145944 ... False  True\n",
       "C202212280349025m145944 C202212280349025m145944 ...  True False\n",
       "                    ...                     ... ...   ...   ...\n",
       "T202301031055024m074329 T202302021055025m074329 ... False  True\n",
       "T202301031055024m074329 T202302021055025m074329 ... False  True\n",
       "T202301031055024m074329 T202302021055025m074329 ... False  True\n",
       "T202301031055024m074329 T202302021055025m074329 ... False  True\n",
       "T202301031055024m074329 T202302021055025m074329 ... False  True\n",
       "T202301031055024m074329 T202302021055025m074329 ... False  True\n",
       "T202301031055024m074329 T202302021055025m074329 ... False  True\n",
       "T202301031055024m074329 T202302021055025m074329 ... False  True\n",
       "T202301031055024m074329 T202302021055025m074329 ... False  True\n",
       "T202301031055024m074329 T202302021055025m074329 ... False  True"
      ]
     },
     "execution_count": 12,
     "metadata": {},
     "output_type": "execute_result"
    }
   ],
   "source": [
    "interesting_lightcurves_table"
   ]
  },
  {
   "cell_type": "code",
   "execution_count": 12,
   "metadata": {},
   "outputs": [
    {
     "name": "stderr",
     "output_type": "stream",
     "text": [
      "100%|██████████| 649/649 [00:03<00:00, 197.81it/s]\n"
     ]
    }
   ],
   "source": [
    "queue = [[i, interesting_lightcurves_table[np.where(interesting_lightcurves_table[\"STANDARD_NAME\"] == i[\"STANDARD_NAME\"])]] for i in interesting_table]\n",
    "pool = mp.Pool(processes=cores)\n",
    "good_list = list(tqdm(pool.imap(good_example, queue), total = len(queue)))"
   ]
  },
  {
   "cell_type": "code",
   "execution_count": 13,
   "metadata": {},
   "outputs": [],
   "source": [
    "p = PdfPages('good_interesting_transients.pdf')\n",
    "for row in interesting_table[good_list]:\n",
    "    curfig = plt.figure(figsize=[10,6])\n",
    "    lc = interesting_lightcurves_table[np.where(interesting_lightcurves_table[\"STANDARD_NAME\"] == row[\"STANDARD_NAME\"])]\n",
    "    lc_real = lc[lc[\"REAL\"]]\n",
    "    brightest_mag = lc_real[np.argmin(lc_real[\"MAG_FPHOT\"])]\n",
    "    for i in np.unique(lc_real[\"FILTER\"]):\n",
    "        lc_real_filter = lc_real[np.where(lc_real[\"FILTER\"] == i)]\n",
    "        before_max = len(lc_real_filter[(lc_real_filter[\"MJD_OBS\"] < brightest_mag[\"MJD_OBS\"])]) > 4\n",
    "        after_max = len(lc_real_filter[(lc_real_filter[\"MJD_OBS\"] > brightest_mag[\"MJD_OBS\"])]) > 6\n",
    "\n",
    "        plt.errorbar(lc_real_filter[\"MJD_OBS\"], lc_real_filter[\"MAG_FPHOT\"], lc_real_filter[\"MAGERR_FPHOT\"], fmt = \"o\", color = filter_dict[i], label = i)\n",
    "        #plt.scatter(lc_real_filter[\"MJD_OBS\"], np.power(10, lc_real_filter[\"MAG_FPHOT\"] / (-2.5)), color = filter_dict[i], label = i)\n",
    "    plt.legend()\n",
    "    plt.gca().invert_yaxis()\n",
    "    plt.title(\"{} z = {:.3f} SPECTYPE = {}\".format(row[\"STANDARD_NAME\"], row[\"Z\"], row[\"SPECTYPE\"]))\n",
    "    p.savefig(curfig)\n",
    "    plt.close()\n",
    "p.close() "
   ]
  },
  {
   "cell_type": "code",
   "execution_count": 103,
   "metadata": {},
   "outputs": [],
   "source": [
    "def good_tde(data):\n",
    "    row, lc = data\n",
    "    lc_real = lc[lc[\"REAL\"]]\n",
    "    brightest_mag = lc_real[np.argmin(lc_real[\"MAG_FPHOT\"])]\n",
    "\n",
    "    lc_real_g = lc_real[np.where(lc_real[\"FILTER\"] == \"g\")]\n",
    "    lc_real_r = lc_real[np.where(lc_real[\"FILTER\"] == \"r\")]\n",
    "\n",
    "    if(len(lc_real_g) < 5 or len(lc_real_r) < 5):\n",
    "        return 99.0\n",
    "    \n",
    "    g_r = np.nanmean(lc_real_g[\"MAG_FPHOT\"]) - np.nanmean(lc_real_r[\"MAG_FPHOT\"])\n",
    "        \n",
    "    return g_r"
   ]
  },
  {
   "cell_type": "code",
   "execution_count": 104,
   "metadata": {},
   "outputs": [
    {
     "name": "stderr",
     "output_type": "stream",
     "text": [
      "100%|██████████| 649/649 [00:01<00:00, 396.21it/s]\n"
     ]
    }
   ],
   "source": [
    "queue = [[i, interesting_lightcurves_table[np.where(interesting_lightcurves_table[\"STANDARD_NAME\"] == i[\"STANDARD_NAME\"])]] for i in interesting_table]\n",
    "pool = mp.Pool(processes=cores)\n",
    "good_tde_list = np.array(list(tqdm(pool.imap(good_tde, queue), total = len(queue))))"
   ]
  },
  {
   "cell_type": "code",
   "execution_count": 105,
   "metadata": {},
   "outputs": [
    {
     "name": "stderr",
     "output_type": "stream",
     "text": [
      "100%|██████████| 2339/2339 [00:06<00:00, 334.23it/s]\n"
     ]
    }
   ],
   "source": [
    "queue = [[i, crossmatch_lightcurves_table[np.where(crossmatch_lightcurves_table[\"STANDARD_NAME\"] == i[\"STANDARD_NAME\"])]] for i in crossmatch_table]\n",
    "pool = mp.Pool(processes=cores)\n",
    "crossmatch_tde_list = np.array(list(tqdm(pool.imap(good_tde, queue), total = len(queue))))"
   ]
  },
  {
   "cell_type": "code",
   "execution_count": 106,
   "metadata": {},
   "outputs": [],
   "source": [
    "p = PdfPages('tde_crossmatch_transients.pdf')\n",
    "for row in crossmatch_table[crossmatch_tde_list < 0.2]:\n",
    "    curfig = plt.figure(figsize=[10,6])\n",
    "    lc = crossmatch_lightcurves_table[np.where(crossmatch_lightcurves_table[\"STANDARD_NAME\"] == row[\"STANDARD_NAME\"])]\n",
    "    lc_real = lc[lc[\"REAL\"]]\n",
    "    for i in np.unique(lc_real[\"FILTER\"]):\n",
    "        lc_real_filter = lc_real[np.where(lc_real[\"FILTER\"] == i)]\n",
    "        before_max = len(lc_real_filter[(lc_real_filter[\"MJD_OBS\"] < brightest_mag[\"MJD_OBS\"])]) > 4\n",
    "        after_max = len(lc_real_filter[(lc_real_filter[\"MJD_OBS\"] > brightest_mag[\"MJD_OBS\"])]) > 6\n",
    "\n",
    "        plt.errorbar(lc_real_filter[\"MJD_OBS\"], lc_real_filter[\"MAG_FPHOT\"], lc_real_filter[\"MAGERR_FPHOT\"], fmt = \"o\", color = filter_dict[i], label = i)\n",
    "        #plt.scatter(lc_real_filter[\"MJD_OBS\"], np.power(10, lc_real_filter[\"MAG_FPHOT\"] / (-2.5)), color = filter_dict[i], label = i)\n",
    "    plt.legend()\n",
    "    plt.gca().invert_yaxis()\n",
    "    plt.title(\"{} z = {:.3f} SPECTYPE = {}\".format(row[\"STANDARD_NAME\"], row[\"Z\"], row[\"SPECTYPE\"]))\n",
    "    p.savefig(curfig)\n",
    "    plt.close()\n",
    "p.close() "
   ]
  },
  {
   "cell_type": "code",
   "execution_count": 108,
   "metadata": {},
   "outputs": [],
   "source": [
    "crossmatchall_df =  pd.read_csv('../CrossMatch/DESIRT_one_arcsecond_crossmatch_all_objects.csv')"
   ]
  },
  {
   "cell_type": "code",
   "execution_count": 110,
   "metadata": {},
   "outputs": [],
   "source": [
    "standard_names = []\n",
    "\n",
    "for row in crossmatchall_df.iterrows():\n",
    "    \n",
    "    for i in [0, 1, 2, 3, 4]:\n",
    "\n",
    "        if not pd.isnull(row[1][i]):\n",
    "\n",
    "            standard_names.append(row[1][i])\n",
    "            \n",
    "            break\n",
    "\n",
    "crossmatchall_df['STANDARD_NAME'] = standard_names\n",
    "crossmatchall_df = crossmatchall_df[['STANDARD_NAME', '21A', '22A', '22B', '23A', '23B', 'ra_obj', 'dec_obj']]"
   ]
  },
  {
   "cell_type": "code",
   "execution_count": 111,
   "metadata": {},
   "outputs": [
    {
     "data": {
      "text/html": [
       "<div>\n",
       "<style scoped>\n",
       "    .dataframe tbody tr th:only-of-type {\n",
       "        vertical-align: middle;\n",
       "    }\n",
       "\n",
       "    .dataframe tbody tr th {\n",
       "        vertical-align: top;\n",
       "    }\n",
       "\n",
       "    .dataframe thead th {\n",
       "        text-align: right;\n",
       "    }\n",
       "</style>\n",
       "<table border=\"1\" class=\"dataframe\">\n",
       "  <thead>\n",
       "    <tr style=\"text-align: right;\">\n",
       "      <th></th>\n",
       "      <th>STANDARD_NAME</th>\n",
       "      <th>21A</th>\n",
       "      <th>22A</th>\n",
       "      <th>22B</th>\n",
       "      <th>23A</th>\n",
       "      <th>23B</th>\n",
       "      <th>ra_obj</th>\n",
       "      <th>dec_obj</th>\n",
       "    </tr>\n",
       "  </thead>\n",
       "  <tbody>\n",
       "    <tr>\n",
       "      <th>0</th>\n",
       "      <td>C202210020000005m002704</td>\n",
       "      <td>NaN</td>\n",
       "      <td>NaN</td>\n",
       "      <td>C202210020000005m002704</td>\n",
       "      <td>NaN</td>\n",
       "      <td>NaN</td>\n",
       "      <td>0.001904</td>\n",
       "      <td>-0.451054</td>\n",
       "    </tr>\n",
       "    <tr>\n",
       "      <th>1</th>\n",
       "      <td>T202209140000007p000606</td>\n",
       "      <td>NaN</td>\n",
       "      <td>NaN</td>\n",
       "      <td>T202209140000007p000606</td>\n",
       "      <td>NaN</td>\n",
       "      <td>T202308020000007p000606</td>\n",
       "      <td>0.002768</td>\n",
       "      <td>0.101728</td>\n",
       "    </tr>\n",
       "    <tr>\n",
       "      <th>2</th>\n",
       "      <td>T202210260000009p003229</td>\n",
       "      <td>NaN</td>\n",
       "      <td>NaN</td>\n",
       "      <td>T202210260000009p003229</td>\n",
       "      <td>NaN</td>\n",
       "      <td>T202308130000010p003230</td>\n",
       "      <td>0.003874</td>\n",
       "      <td>0.541530</td>\n",
       "    </tr>\n",
       "    <tr>\n",
       "      <th>3</th>\n",
       "      <td>T202209090000014p001817</td>\n",
       "      <td>NaN</td>\n",
       "      <td>NaN</td>\n",
       "      <td>T202209090000014p001817</td>\n",
       "      <td>NaN</td>\n",
       "      <td>NaN</td>\n",
       "      <td>0.005892</td>\n",
       "      <td>0.304686</td>\n",
       "    </tr>\n",
       "    <tr>\n",
       "      <th>4</th>\n",
       "      <td>T202210020000016p003460</td>\n",
       "      <td>NaN</td>\n",
       "      <td>NaN</td>\n",
       "      <td>T202210020000016p003460</td>\n",
       "      <td>NaN</td>\n",
       "      <td>T202308130000017p003460</td>\n",
       "      <td>0.006866</td>\n",
       "      <td>0.583236</td>\n",
       "    </tr>\n",
       "  </tbody>\n",
       "</table>\n",
       "</div>"
      ],
      "text/plain": [
       "             STANDARD_NAME  21A  22A                      22B  23A  \\\n",
       "0  C202210020000005m002704  NaN  NaN  C202210020000005m002704  NaN   \n",
       "1  T202209140000007p000606  NaN  NaN  T202209140000007p000606  NaN   \n",
       "2  T202210260000009p003229  NaN  NaN  T202210260000009p003229  NaN   \n",
       "3  T202209090000014p001817  NaN  NaN  T202209090000014p001817  NaN   \n",
       "4  T202210020000016p003460  NaN  NaN  T202210020000016p003460  NaN   \n",
       "\n",
       "                       23B    ra_obj   dec_obj  \n",
       "0                      NaN  0.001904 -0.451054  \n",
       "1  T202308020000007p000606  0.002768  0.101728  \n",
       "2  T202308130000010p003230  0.003874  0.541530  \n",
       "3                      NaN  0.005892  0.304686  \n",
       "4  T202308130000017p003460  0.006866  0.583236  "
      ]
     },
     "execution_count": 111,
     "metadata": {},
     "output_type": "execute_result"
    }
   ],
   "source": [
    "crossmatchall_df.head()"
   ]
  },
  {
   "cell_type": "code",
   "execution_count": 112,
   "metadata": {},
   "outputs": [
    {
     "name": "stderr",
     "output_type": "stream",
     "text": [
      "100%|██████████| 27127/27127 [13:05<00:00, 34.52it/s]\n"
     ]
    }
   ],
   "source": [
    "queue = [[i, crossmatchall_df] for i in crossmatchall_df[\"STANDARD_NAME\"]]\n",
    "pool = mp.Pool(processes=cores)\n",
    "crossmatchall_lightcurve_dfs = list(tqdm(pool.imap_unordered(get_fphot, queue), total = len(queue)))\n",
    "crossmatchall_lightcurve_df = pd.concat(crossmatchall_lightcurve_dfs)"
   ]
  },
  {
   "cell_type": "code",
   "execution_count": 114,
   "metadata": {},
   "outputs": [],
   "source": [
    "crossmatchall_lightcurve_df.to_csv(\"~/tmp_ondemand_hildafs_phy220048p_symlink/xhall/DESIRT_Candidate_LCs/crossmatchall_lightcurve.csv\", index = False)"
   ]
  },
  {
   "cell_type": "code",
   "execution_count": 117,
   "metadata": {},
   "outputs": [],
   "source": [
    "crossmatchall_lightcurve_table = Table.from_pandas(crossmatchall_lightcurve_df)\n",
    "crossmatchall_table = Table.from_pandas(crossmatchall_df)"
   ]
  },
  {
   "cell_type": "code",
   "execution_count": 123,
   "metadata": {},
   "outputs": [],
   "source": [
    "def good_tde_all(data):\n",
    "    row, lc = data\n",
    "    lc_real = lc[lc[\"REAL\"]]\n",
    "    if(len(lc_real) < 1):\n",
    "        return 99.0\n",
    "    brightest_mag = lc_real[np.argmin(lc_real[\"MAG_FPHOT\"])]\n",
    "\n",
    "    lc_real_g = lc_real[np.where(lc_real[\"FILTER\"] == \"g\")]\n",
    "    lc_real_r = lc_real[np.where(lc_real[\"FILTER\"] == \"r\")]\n",
    "\n",
    "    if(len(lc_real_g) < 10 or len(lc_real_r) < 10):\n",
    "        return 99.0\n",
    "    \n",
    "    g_r = np.nanmean(lc_real_g[\"MAG_FPHOT\"]) - np.nanmean(lc_real_r[\"MAG_FPHOT\"])\n",
    "        \n",
    "    return g_r"
   ]
  },
  {
   "cell_type": "code",
   "execution_count": 120,
   "metadata": {},
   "outputs": [],
   "source": [
    "queue = [[i, crossmatchall_lightcurve_table[np.where(crossmatchall_lightcurve_table[\"STANDARD_NAME\"] == i[\"STANDARD_NAME\"])]] for i in crossmatchall_table]"
   ]
  },
  {
   "cell_type": "code",
   "execution_count": 124,
   "metadata": {},
   "outputs": [
    {
     "name": "stderr",
     "output_type": "stream",
     "text": [
      "100%|██████████| 27127/27127 [06:34<00:00, 68.81it/s]\n",
      "Process ForkPoolWorker-194:\n",
      "Process ForkPoolWorker-196:\n",
      "Process ForkPoolWorker-193:\n",
      "Process ForkPoolWorker-195:\n",
      "Process ForkPoolWorker-199:\n",
      "Process ForkPoolWorker-198:\n",
      "Process ForkPoolWorker-200:\n",
      "Process ForkPoolWorker-197:\n",
      "Traceback (most recent call last):\n",
      "Traceback (most recent call last):\n",
      "Traceback (most recent call last):\n"
     ]
    }
   ],
   "source": [
    "pool = mp.Pool(processes=cores)\n",
    "crossmatchall_tde_list = np.array(list(tqdm(pool.imap(good_tde_all, queue), total = len(queue))))"
   ]
  },
  {
   "cell_type": "code",
   "execution_count": 126,
   "metadata": {},
   "outputs": [
    {
     "data": {
      "text/plain": [
       "1955"
      ]
     },
     "execution_count": 126,
     "metadata": {},
     "output_type": "execute_result"
    }
   ],
   "source": [
    "np.sum(crossmatchall_tde_list < 0)"
   ]
  },
  {
   "cell_type": "code",
   "execution_count": null,
   "metadata": {},
   "outputs": [],
   "source": [
    "p = PdfPages('tde_crossmatchall_transients.pdf')\n",
    "for row in crossmatchall_table[crossmatchall_tde_list < 0]:\n",
    "    curfig = plt.figure(figsize=[10,6])\n",
    "    lc = crossmatch_lightcurves_table[np.where(crossmatch_lightcurves_table[\"STANDARD_NAME\"] == row[\"STANDARD_NAME\"])]\n",
    "    lc_real = lc[lc[\"REAL\"]]\n",
    "    for i in np.unique(lc_real[\"FILTER\"]):\n",
    "        lc_real_filter = lc_real[np.where(lc_real[\"FILTER\"] == i)]\n",
    "        plt.errorbar(lc_real_filter[\"MJD_OBS\"], lc_real_filter[\"MAG_FPHOT\"], lc_real_filter[\"MAGERR_FPHOT\"], fmt = \"o\", color = filter_dict[i], label = i)\n",
    "        #plt.scatter(lc_real_filter[\"MJD_OBS\"], np.power(10, lc_real_filter[\"MAG_FPHOT\"] / (-2.5)), color = filter_dict[i], label = i)\n",
    "    plt.legend()\n",
    "    plt.gca().invert_yaxis()\n",
    "    plt.title(\"{}\".format(row[\"STANDARD_NAME\"]))\n",
    "    p.savefig(curfig)\n",
    "    plt.close()\n",
    "p.close() "
   ]
  },
  {
   "cell_type": "code",
   "execution_count": null,
   "metadata": {},
   "outputs": [],
   "source": []
  }
 ],
 "metadata": {
  "kernelspec": {
   "display_name": "NERSC Python",
   "language": "python",
   "name": "python3"
  },
  "language_info": {
   "codemirror_mode": {
    "name": "ipython",
    "version": 3
   },
   "file_extension": ".py",
   "mimetype": "text/x-python",
   "name": "python",
   "nbconvert_exporter": "python",
   "pygments_lexer": "ipython3",
   "version": "3.11.7"
  }
 },
 "nbformat": 4,
 "nbformat_minor": 4
}
