{
 "cells": [
  {
   "cell_type": "code",
   "execution_count": 89,
   "metadata": {},
   "outputs": [],
   "source": [
    "import pandas as pd\n",
    "import matplotlib.pyplot as plt\n",
    "import numpy as np\n",
    "import os\n",
    "import sys\n",
    "from matplotlib.backends.backend_pdf import PdfPages\n",
    "from astropy.wcs import WCS\n",
    "from astropy import units as u\n",
    "from astropy.coordinates import SkyCoord\n",
    "#pd.options.mode.copy_on_write = True\n",
    "from astropy.table import Table\n",
    "from astropy.cosmology import FlatLambdaCDM\n",
    "import multiprocessing as mp\n",
    "from tqdm import tqdm\n",
    "cosmo = FlatLambdaCDM(name='Planck18', H0=67.66, Om0=0.30966, Tcmb0=2.7255, Neff=3.046, m_nu=[0.  , 0.  , 0.06]* u.eV, Ob0=0.04897)\n",
    "cores = 8"
   ]
  },
  {
   "cell_type": "code",
   "execution_count": 90,
   "metadata": {},
   "outputs": [],
   "source": [
    "sys.path.append('../UploadToFritz')\n",
    "import GetLightcurve\n",
    "\n",
    "def get_fphot(data):\n",
    "    objid, crossmatch = data\n",
    "    df_photometry = GetLightcurve.full_dataframe([objid, crossmatch])[['STANDARD_NAME', 'SEMESTER_NAME', 'SCIENCE_NAME', 'TEMPLATE_NAME', 'MJD_OBS', 'FILTER', 'DETPOS',\n",
    "       'X_OBJ', 'Y_OBJ', 'X_FPHOT', 'Y_FPHOT', 'X_nSTAR', 'Y_nSTAR', 'X_nGAL',\n",
    "       'Y_nGAL', 'X_ALT', 'Y_ALT', 'MAG_ALT', 'MAGERR_ALT', 'SNR_ALT',\n",
    "       'CNNSCORE_ALT', 'ZMIN_TEMP', 'ZMAX_TEMP', 'ZMIN_SCI', 'ZMAX_SCI',\n",
    "       'ZMIN_DIFF', 'ZMAX_DIFF', 'APER_FPHOT', 'ZP_FPHOT', 'LIM_MAG3',\n",
    "       'LIM_MAG5', 'MAG_FPHOT', 'MAGERR_FPHOT', 'SNR_FPHOT', 'STATUS_FPHOT',\n",
    "       'REAL', 'LIMIT']]\n",
    "    \n",
    "    df_photometry.drop_duplicates(subset = [\"MAG_FPHOT\", \"MAGERR_FPHOT\", \"MJD_OBS\", \"FILTER\"], inplace = True)\n",
    "    \n",
    "    return df_photometry"
   ]
  },
  {
   "cell_type": "code",
   "execution_count": 91,
   "metadata": {},
   "outputs": [],
   "source": [
    "crossmatch_df =  pd.read_csv('../MatchToDESI/candidates_desi.csv')\n",
    "interesting_df =  pd.read_csv('../MatchToDESI/interesting_desi.csv')"
   ]
  },
  {
   "cell_type": "code",
   "execution_count": 92,
   "metadata": {},
   "outputs": [
    {
     "name": "stderr",
     "output_type": "stream",
     "text": [
      "100%|██████████| 649/649 [00:11<00:00, 57.50it/s]\n"
     ]
    }
   ],
   "source": [
    "queue = [[i, interesting_df] for i in interesting_df[\"STANDARD_NAME\"]]\n",
    "pool = mp.Pool(processes=cores)\n",
    "interesting_lightcurve_dfs = list(tqdm(pool.imap_unordered(get_fphot, queue), total = len(queue)))\n",
    "interesting_lightcurves_df = pd.concat(interesting_lightcurve_dfs)"
   ]
  },
  {
   "cell_type": "code",
   "execution_count": 93,
   "metadata": {},
   "outputs": [
    {
     "name": "stderr",
     "output_type": "stream",
     "text": [
      "100%|██████████| 2339/2339 [00:37<00:00, 62.22it/s]\n"
     ]
    }
   ],
   "source": [
    "queue = [[i, crossmatch_df] for i in crossmatch_df[\"STANDARD_NAME\"]]\n",
    "pool = mp.Pool(processes=cores)\n",
    "crossmatch_lightcurve_dfs = list(tqdm(pool.imap_unordered(get_fphot, queue), total = len(queue)))\n",
    "crossmatch_lightcurve_df = pd.concat(crossmatch_lightcurve_dfs)"
   ]
  },
  {
   "cell_type": "code",
   "execution_count": 94,
   "metadata": {},
   "outputs": [],
   "source": [
    "interesting_lightcurves_table = Table.from_pandas(interesting_lightcurves_df)\n",
    "interesting_table = Table.from_pandas(interesting_df)\n",
    "crossmatch_lightcurves_table = Table.from_pandas(crossmatch_lightcurve_df)\n",
    "crossmatch_table = Table.from_pandas(crossmatch_df)"
   ]
  },
  {
   "cell_type": "code",
   "execution_count": 95,
   "metadata": {},
   "outputs": [],
   "source": [
    "np.unique(interesting_lightcurves_table[\"FILTER\"])\n",
    "filter_dict = {\"g\" : \"green\", \"i\" : \"indigo\" , \"r\" : \"red\", \"z\" : \"orange\"}"
   ]
  },
  {
   "cell_type": "code",
   "execution_count": 96,
   "metadata": {},
   "outputs": [],
   "source": [
    "#C202208032106241p061948 Good example"
   ]
  },
  {
   "cell_type": "code",
   "execution_count": 97,
   "metadata": {},
   "outputs": [
    {
     "data": {
      "image/png": "[encoded data removed]",
      "text/plain": [
       "<Figure size 432x288 with 1 Axes>"
      ]
     },
     "metadata": {
      "needs_background": "light"
     },
     "output_type": "display_data"
    }
   ],
   "source": [
    "row = interesting_table[203]\n",
    "lc = interesting_lightcurves_table[np.where(interesting_lightcurves_table[\"STANDARD_NAME\"] == row[\"STANDARD_NAME\"])]\n",
    "lc_real = lc[lc[\"REAL\"]]\n",
    "brightest_mag = lc_real[np.argmin(lc_real[\"MAG_FPHOT\"])]\n",
    "for i in np.unique(lc_real[\"FILTER\"]):\n",
    "    lc_real_filter = lc_real[np.where(lc_real[\"FILTER\"] == i)]\n",
    "    plt.errorbar(lc_real_filter[\"MJD_OBS\"], lc_real_filter[\"MAG_FPHOT\"], lc_real_filter[\"MAGERR_FPHOT\"], fmt = \"o\", color = filter_dict[i], label = i)\n",
    "plt.legend()\n",
    "plt.gca().invert_yaxis()"
   ]
  },
  {
   "cell_type": "code",
   "execution_count": 98,
   "metadata": {},
   "outputs": [
    {
     "data": {
      "text/plain": [
       "True"
      ]
     },
     "execution_count": 98,
     "metadata": {},
     "output_type": "execute_result"
    }
   ],
   "source": [
    "num_filters = len(np.unique(lc_real[\"FILTER\"]))\n",
    "before_max = len(lc_real[(lc_real[\"MJD_OBS\"] < brightest_mag[\"MJD_OBS\"])]) > 4\n",
    "after_max = len(lc_real[(lc_real[\"MJD_OBS\"] > brightest_mag[\"MJD_OBS\"])]) > 6\n",
    "ample_observations = before_max and after_max\n",
    "ample_observations"
   ]
  },
  {
   "cell_type": "code",
   "execution_count": 99,
   "metadata": {},
   "outputs": [],
   "source": [
    "def good_example(data):\n",
    "    row, lc = data\n",
    "    lc_real = lc[lc[\"REAL\"]]\n",
    "    brightest_mag = lc_real[np.argmin(lc_real[\"MAG_FPHOT\"])]\n",
    "    good = []\n",
    "    for i in np.unique(lc_real[\"FILTER\"]):\n",
    "        lc_real_filter = lc_real[np.where(lc_real[\"FILTER\"] == i)]\n",
    "        before_max = len(lc_real_filter[(lc_real_filter[\"MJD_OBS\"] < brightest_mag[\"MJD_OBS\"])]) > 4\n",
    "        after_max = len(lc_real_filter[(lc_real_filter[\"MJD_OBS\"] > brightest_mag[\"MJD_OBS\"])]) > 6\n",
    "        ample_observations = before_max and after_max\n",
    "        good.append(ample_observations)\n",
    "        \n",
    "    return np.sum(good) > 0"
   ]
  },
  {
   "cell_type": "code",
   "execution_count": 100,
   "metadata": {},
   "outputs": [
    {
     "name": "stderr",
     "output_type": "stream",
     "text": [
      "100%|██████████| 649/649 [00:03<00:00, 209.95it/s]\n"
     ]
    }
   ],
   "source": [
    "queue = [[i, interesting_lightcurves_table[np.where(interesting_lightcurves_table[\"STANDARD_NAME\"] == i[\"STANDARD_NAME\"])]] for i in interesting_table]\n",
    "pool = mp.Pool(processes=cores)\n",
    "good_list = list(tqdm(pool.imap(good_example, queue), total = len(queue)))"
   ]
  },
  {
   "cell_type": "code",
   "execution_count": 101,
   "metadata": {},
   "outputs": [],
   "source": [
    "p = PdfPages('good_interesting_transients.pdf')\n",
    "for row in interesting_table[good_list]:\n",
    "    curfig = plt.figure(figsize=[10,6])\n",
    "    lc = interesting_lightcurves_table[np.where(interesting_lightcurves_table[\"STANDARD_NAME\"] == row[\"STANDARD_NAME\"])]\n",
    "    lc_real = lc[lc[\"REAL\"]]\n",
    "    brightest_mag = lc_real[np.argmin(lc_real[\"MAG_FPHOT\"])]\n",
    "    for i in np.unique(lc_real[\"FILTER\"]):\n",
    "        lc_real_filter = lc_real[np.where(lc_real[\"FILTER\"] == i)]\n",
    "        before_max = len(lc_real_filter[(lc_real_filter[\"MJD_OBS\"] < brightest_mag[\"MJD_OBS\"])]) > 4\n",
    "        after_max = len(lc_real_filter[(lc_real_filter[\"MJD_OBS\"] > brightest_mag[\"MJD_OBS\"])]) > 6\n",
    "\n",
    "        plt.errorbar(lc_real_filter[\"MJD_OBS\"], lc_real_filter[\"MAG_FPHOT\"], lc_real_filter[\"MAGERR_FPHOT\"], fmt = \"o\", color = filter_dict[i], label = i)\n",
    "        #plt.scatter(lc_real_filter[\"MJD_OBS\"], np.power(10, lc_real_filter[\"MAG_FPHOT\"] / (-2.5)), color = filter_dict[i], label = i)\n",
    "    plt.legend()\n",
    "    plt.gca().invert_yaxis()\n",
    "    plt.title(\"{} z = {:.3f} SPECTYPE = {}\".format(row[\"STANDARD_NAME\"], row[\"Z\"], row[\"SPECTYPE\"]))\n",
    "    p.savefig(curfig)\n",
    "    plt.close()\n",
    "p.close() "
   ]
  },
  {
   "cell_type": "code",
   "execution_count": 103,
   "metadata": {},
   "outputs": [],
   "source": [
    "def good_tde(data):\n",
    "    row, lc = data\n",
    "    lc_real = lc[lc[\"REAL\"]]\n",
    "    brightest_mag = lc_real[np.argmin(lc_real[\"MAG_FPHOT\"])]\n",
    "\n",
    "    lc_real_g = lc_real[np.where(lc_real[\"FILTER\"] == \"g\")]\n",
    "    lc_real_r = lc_real[np.where(lc_real[\"FILTER\"] == \"r\")]\n",
    "\n",
    "    if(len(lc_real_g) < 5 or len(lc_real_r) < 5):\n",
    "        return 99.0\n",
    "    \n",
    "    g_r = np.nanmean(lc_real_g[\"MAG_FPHOT\"]) - np.nanmean(lc_real_r[\"MAG_FPHOT\"])\n",
    "        \n",
    "    return g_r"
   ]
  },
  {
   "cell_type": "code",
   "execution_count": 104,
   "metadata": {},
   "outputs": [
    {
     "name": "stderr",
     "output_type": "stream",
     "text": [
      "100%|██████████| 649/649 [00:01<00:00, 396.21it/s]\n"
     ]
    }
   ],
   "source": [
    "queue = [[i, interesting_lightcurves_table[np.where(interesting_lightcurves_table[\"STANDARD_NAME\"] == i[\"STANDARD_NAME\"])]] for i in interesting_table]\n",
    "pool = mp.Pool(processes=cores)\n",
    "good_tde_list = np.array(list(tqdm(pool.imap(good_tde, queue), total = len(queue))))"
   ]
  },
  {
   "cell_type": "code",
   "execution_count": 105,
   "metadata": {},
   "outputs": [
    {
     "name": "stderr",
     "output_type": "stream",
     "text": [
      "100%|██████████| 2339/2339 [00:06<00:00, 334.23it/s]\n"
     ]
    }
   ],
   "source": [
    "queue = [[i, crossmatch_lightcurves_table[np.where(crossmatch_lightcurves_table[\"STANDARD_NAME\"] == i[\"STANDARD_NAME\"])]] for i in crossmatch_table]\n",
    "pool = mp.Pool(processes=cores)\n",
    "crossmatch_tde_list = np.array(list(tqdm(pool.imap(good_tde, queue), total = len(queue))))"
   ]
  },
  {
   "cell_type": "code",
   "execution_count": 106,
   "metadata": {},
   "outputs": [],
   "source": [
    "p = PdfPages('tde_crossmatch_transients.pdf')\n",
    "for row in crossmatch_table[crossmatch_tde_list < 0.2]:\n",
    "    curfig = plt.figure(figsize=[10,6])\n",
    "    lc = crossmatch_lightcurves_table[np.where(crossmatch_lightcurves_table[\"STANDARD_NAME\"] == row[\"STANDARD_NAME\"])]\n",
    "    lc_real = lc[lc[\"REAL\"]]\n",
    "    for i in np.unique(lc_real[\"FILTER\"]):\n",
    "        lc_real_filter = lc_real[np.where(lc_real[\"FILTER\"] == i)]\n",
    "        before_max = len(lc_real_filter[(lc_real_filter[\"MJD_OBS\"] < brightest_mag[\"MJD_OBS\"])]) > 4\n",
    "        after_max = len(lc_real_filter[(lc_real_filter[\"MJD_OBS\"] > brightest_mag[\"MJD_OBS\"])]) > 6\n",
    "\n",
    "        plt.errorbar(lc_real_filter[\"MJD_OBS\"], lc_real_filter[\"MAG_FPHOT\"], lc_real_filter[\"MAGERR_FPHOT\"], fmt = \"o\", color = filter_dict[i], label = i)\n",
    "        #plt.scatter(lc_real_filter[\"MJD_OBS\"], np.power(10, lc_real_filter[\"MAG_FPHOT\"] / (-2.5)), color = filter_dict[i], label = i)\n",
    "    plt.legend()\n",
    "    plt.gca().invert_yaxis()\n",
    "    plt.title(\"{} z = {:.3f} SPECTYPE = {}\".format(row[\"STANDARD_NAME\"], row[\"Z\"], row[\"SPECTYPE\"]))\n",
    "    p.savefig(curfig)\n",
    "    plt.close()\n",
    "p.close() "
   ]
  },
  {
   "cell_type": "code",
   "execution_count": 108,
   "metadata": {},
   "outputs": [],
   "source": [
    "crossmatchall_df =  pd.read_csv('../CrossMatch/DESIRT_one_arcsecond_crossmatch_all_objects.csv')"
   ]
  },
  {
   "cell_type": "code",
   "execution_count": 110,
   "metadata": {},
   "outputs": [],
   "source": [
    "standard_names = []\n",
    "\n",
    "for row in crossmatchall_df.iterrows():\n",
    "    \n",
    "    for i in [0, 1, 2, 3, 4]:\n",
    "\n",
    "        if not pd.isnull(row[1][i]):\n",
    "\n",
    "            standard_names.append(row[1][i])\n",
    "            \n",
    "            break\n",
    "\n",
    "crossmatchall_df['STANDARD_NAME'] = standard_names\n",
    "crossmatchall_df = crossmatchall_df[['STANDARD_NAME', '21A', '22A', '22B', '23A', '23B', 'ra_obj', 'dec_obj']]"
   ]
  },
  {
   "cell_type": "code",
   "execution_count": 111,
   "metadata": {},
   "outputs": [
    {
     "data": {
      "text/html": [
       "<div>\n",
       "<style scoped>\n",
       "    .dataframe tbody tr th:only-of-type {\n",
       "        vertical-align: middle;\n",
       "    }\n",
       "\n",
       "    .dataframe tbody tr th {\n",
       "        vertical-align: top;\n",
       "    }\n",
       "\n",
       "    .dataframe thead th {\n",
       "        text-align: right;\n",
       "    }\n",
       "</style>\n",
       "<table border=\"1\" class=\"dataframe\">\n",
       "  <thead>\n",
       "    <tr style=\"text-align: right;\">\n",
       "      <th></th>\n",
       "      <th>STANDARD_NAME</th>\n",
       "      <th>21A</th>\n",
       "      <th>22A</th>\n",
       "      <th>22B</th>\n",
       "      <th>23A</th>\n",
       "      <th>23B</th>\n",
       "      <th>ra_obj</th>\n",
       "      <th>dec_obj</th>\n",
       "    </tr>\n",
       "  </thead>\n",
       "  <tbody>\n",
       "    <tr>\n",
       "      <th>0</th>\n",
       "      <td>C202210020000005m002704</td>\n",
       "      <td>NaN</td>\n",
       "      <td>NaN</td>\n",
       "      <td>C202210020000005m002704</td>\n",
       "      <td>NaN</td>\n",
       "      <td>NaN</td>\n",
       "      <td>0.001904</td>\n",
       "      <td>-0.451054</td>\n",
       "    </tr>\n",
       "    <tr>\n",
       "      <th>1</th>\n",
       "      <td>T202209140000007p000606</td>\n",
       "      <td>NaN</td>\n",
       "      <td>NaN</td>\n",
       "      <td>T202209140000007p000606</td>\n",
       "      <td>NaN</td>\n",
       "      <td>T202308020000007p000606</td>\n",
       "      <td>0.002768</td>\n",
       "      <td>0.101728</td>\n",
       "    </tr>\n",
       "    <tr>\n",
       "      <th>2</th>\n",
       "      <td>T202210260000009p003229</td>\n",
       "      <td>NaN</td>\n",
       "      <td>NaN</td>\n",
       "      <td>T202210260000009p003229</td>\n",
       "      <td>NaN</td>\n",
       "      <td>T202308130000010p003230</td>\n",
       "      <td>0.003874</td>\n",
       "      <td>0.541530</td>\n",
       "    </tr>\n",
       "    <tr>\n",
       "      <th>3</th>\n",
       "      <td>T202209090000014p001817</td>\n",
       "      <td>NaN</td>\n",
       "      <td>NaN</td>\n",
       "      <td>T202209090000014p001817</td>\n",
       "      <td>NaN</td>\n",
       "      <td>NaN</td>\n",
       "      <td>0.005892</td>\n",
       "      <td>0.304686</td>\n",
       "    </tr>\n",
       "    <tr>\n",
       "      <th>4</th>\n",
       "      <td>T202210020000016p003460</td>\n",
       "      <td>NaN</td>\n",
       "      <td>NaN</td>\n",
       "      <td>T202210020000016p003460</td>\n",
       "      <td>NaN</td>\n",
       "      <td>T202308130000017p003460</td>\n",
       "      <td>0.006866</td>\n",
       "      <td>0.583236</td>\n",
       "    </tr>\n",
       "  </tbody>\n",
       "</table>\n",
       "</div>"
      ],
      "text/plain": [
       "             STANDARD_NAME  21A  22A                      22B  23A  \\\n",
       "0  C202210020000005m002704  NaN  NaN  C202210020000005m002704  NaN   \n",
       "1  T202209140000007p000606  NaN  NaN  T202209140000007p000606  NaN   \n",
       "2  T202210260000009p003229  NaN  NaN  T202210260000009p003229  NaN   \n",
       "3  T202209090000014p001817  NaN  NaN  T202209090000014p001817  NaN   \n",
       "4  T202210020000016p003460  NaN  NaN  T202210020000016p003460  NaN   \n",
       "\n",
       "                       23B    ra_obj   dec_obj  \n",
       "0                      NaN  0.001904 -0.451054  \n",
       "1  T202308020000007p000606  0.002768  0.101728  \n",
       "2  T202308130000010p003230  0.003874  0.541530  \n",
       "3                      NaN  0.005892  0.304686  \n",
       "4  T202308130000017p003460  0.006866  0.583236  "
      ]
     },
     "execution_count": 111,
     "metadata": {},
     "output_type": "execute_result"
    }
   ],
   "source": [
    "crossmatchall_df.head()"
   ]
  },
  {
   "cell_type": "code",
   "execution_count": 112,
   "metadata": {},
   "outputs": [
    {
     "name": "stderr",
     "output_type": "stream",
     "text": [
      "100%|██████████| 27127/27127 [13:05<00:00, 34.52it/s]\n"
     ]
    }
   ],
   "source": [
    "queue = [[i, crossmatchall_df] for i in crossmatchall_df[\"STANDARD_NAME\"]]\n",
    "pool = mp.Pool(processes=cores)\n",
    "crossmatchall_lightcurve_dfs = list(tqdm(pool.imap_unordered(get_fphot, queue), total = len(queue)))\n",
    "crossmatchall_lightcurve_df = pd.concat(crossmatchall_lightcurve_dfs)"
   ]
  },
  {
   "cell_type": "code",
   "execution_count": 114,
   "metadata": {},
   "outputs": [],
   "source": [
    "crossmatchall_lightcurve_df.to_csv(\"~/tmp_ondemand_hildafs_phy220048p_symlink/xhall/DESIRT_Candidate_LCs/crossmatchall_lightcurve.csv\", index = False)"
   ]
  },
  {
   "cell_type": "code",
   "execution_count": 117,
   "metadata": {},
   "outputs": [],
   "source": [
    "crossmatchall_lightcurve_table = Table.from_pandas(crossmatchall_lightcurve_df)\n",
    "crossmatchall_table = Table.from_pandas(crossmatchall_df)"
   ]
  },
  {
   "cell_type": "code",
   "execution_count": 118,
   "metadata": {},
   "outputs": [],
   "source": [
    "def good_tde_all(data):\n",
    "    row, lc = data\n",
    "    lc_real = lc[lc[\"REAL\"]]\n",
    "    brightest_mag = lc_real[np.argmin(lc_real[\"MAG_FPHOT\"])]\n",
    "\n",
    "    lc_real_g = lc_real[np.where(lc_real[\"FILTER\"] == \"g\")]\n",
    "    lc_real_r = lc_real[np.where(lc_real[\"FILTER\"] == \"r\")]\n",
    "\n",
    "    if(len(lc_real_g) < 10 or len(lc_real_r) < 10):\n",
    "        return 99.0\n",
    "    \n",
    "    g_r = np.nanmean(lc_real_g[\"MAG_FPHOT\"]) - np.nanmean(lc_real_r[\"MAG_FPHOT\"])\n",
    "        \n",
    "    return g_r"
   ]
  },
  {
   "cell_type": "code",
   "execution_count": 119,
   "metadata": {},
   "outputs": [
    {
     "name": "stderr",
     "output_type": "stream",
     "text": [
      "  2%|▏         | 661/27127 [00:10<07:17, 60.45it/s]\n"
     ]
    },
    {
     "ename": "ValueError",
     "evalue": "attempt to get argmin of an empty sequence",
     "output_type": "error",
     "traceback": [
      "\u001b[0;31m---------------------------------------------------------------------------\u001b[0m",
      "\u001b[0;31mRemoteTraceback\u001b[0m                           Traceback (most recent call last)",
      "\u001b[0;31mRemoteTraceback\u001b[0m: \n\"\"\"\nTraceback (most recent call last):\n  File \"/opt/packages/anaconda3/lib/python3.8/multiprocessing/pool.py\", line 125, in worker\n    result = (True, func(*args, **kwds))\n  File \"<ipython-input-103-9b6afe580592>\", line 4, in good_tde\n    brightest_mag = lc_real[np.argmin(lc_real[\"MAG_FPHOT\"])]\n  File \"<__array_function__ internals>\", line 5, in argmin\n  File \"/opt/packages/anaconda3/lib/python3.8/site-packages/numpy/core/fromnumeric.py\", line 1267, in argmin\n    return _wrapfunc(a, 'argmin', axis=axis, out=out)\n  File \"/opt/packages/anaconda3/lib/python3.8/site-packages/numpy/core/fromnumeric.py\", line 61, in _wrapfunc\n    return bound(*args, **kwds)\nValueError: attempt to get argmin of an empty sequence\n\"\"\"",
      "\nThe above exception was the direct cause of the following exception:\n",
      "\u001b[0;31mValueError\u001b[0m                                Traceback (most recent call last)",
      "\u001b[0;32m<ipython-input-119-273d3469380a>\u001b[0m in \u001b[0;36m<module>\u001b[0;34m\u001b[0m\n\u001b[1;32m      1\u001b[0m \u001b[0mqueue\u001b[0m \u001b[0;34m=\u001b[0m \u001b[0;34m[\u001b[0m\u001b[0;34m[\u001b[0m\u001b[0mi\u001b[0m\u001b[0;34m,\u001b[0m \u001b[0mcrossmatchall_lightcurve_table\u001b[0m\u001b[0;34m[\u001b[0m\u001b[0mnp\u001b[0m\u001b[0;34m.\u001b[0m\u001b[0mwhere\u001b[0m\u001b[0;34m(\u001b[0m\u001b[0mcrossmatchall_lightcurve_table\u001b[0m\u001b[0;34m[\u001b[0m\u001b[0;34m\"STANDARD_NAME\"\u001b[0m\u001b[0;34m]\u001b[0m \u001b[0;34m==\u001b[0m \u001b[0mi\u001b[0m\u001b[0;34m[\u001b[0m\u001b[0;34m\"STANDARD_NAME\"\u001b[0m\u001b[0;34m]\u001b[0m\u001b[0;34m)\u001b[0m\u001b[0;34m]\u001b[0m\u001b[0;34m]\u001b[0m \u001b[0;32mfor\u001b[0m \u001b[0mi\u001b[0m \u001b[0;32min\u001b[0m \u001b[0mcrossmatchall_table\u001b[0m\u001b[0;34m]\u001b[0m\u001b[0;34m\u001b[0m\u001b[0;34m\u001b[0m\u001b[0m\n\u001b[1;32m      2\u001b[0m \u001b[0mpool\u001b[0m \u001b[0;34m=\u001b[0m \u001b[0mmp\u001b[0m\u001b[0;34m.\u001b[0m\u001b[0mPool\u001b[0m\u001b[0;34m(\u001b[0m\u001b[0mprocesses\u001b[0m\u001b[0;34m=\u001b[0m\u001b[0mcores\u001b[0m\u001b[0;34m)\u001b[0m\u001b[0;34m\u001b[0m\u001b[0;34m\u001b[0m\u001b[0m\n\u001b[0;32m----> 3\u001b[0;31m \u001b[0mcrossmatchall_tde_list\u001b[0m \u001b[0;34m=\u001b[0m \u001b[0mnp\u001b[0m\u001b[0;34m.\u001b[0m\u001b[0marray\u001b[0m\u001b[0;34m(\u001b[0m\u001b[0mlist\u001b[0m\u001b[0;34m(\u001b[0m\u001b[0mtqdm\u001b[0m\u001b[0;34m(\u001b[0m\u001b[0mpool\u001b[0m\u001b[0;34m.\u001b[0m\u001b[0mimap\u001b[0m\u001b[0;34m(\u001b[0m\u001b[0mgood_tde\u001b[0m\u001b[0;34m,\u001b[0m \u001b[0mqueue\u001b[0m\u001b[0;34m)\u001b[0m\u001b[0;34m,\u001b[0m \u001b[0mtotal\u001b[0m \u001b[0;34m=\u001b[0m \u001b[0mlen\u001b[0m\u001b[0;34m(\u001b[0m\u001b[0mqueue\u001b[0m\u001b[0;34m)\u001b[0m\u001b[0;34m)\u001b[0m\u001b[0;34m)\u001b[0m\u001b[0;34m)\u001b[0m\u001b[0;34m\u001b[0m\u001b[0;34m\u001b[0m\u001b[0m\n\u001b[0m",
      "\u001b[0;32m/opt/packages/anaconda3/lib/python3.8/site-packages/tqdm/std.py\u001b[0m in \u001b[0;36m__iter__\u001b[0;34m(self)\u001b[0m\n\u001b[1;32m   1127\u001b[0m \u001b[0;34m\u001b[0m\u001b[0m\n\u001b[1;32m   1128\u001b[0m         \u001b[0;32mtry\u001b[0m\u001b[0;34m:\u001b[0m\u001b[0;34m\u001b[0m\u001b[0;34m\u001b[0m\u001b[0m\n\u001b[0;32m-> 1129\u001b[0;31m             \u001b[0;32mfor\u001b[0m \u001b[0mobj\u001b[0m \u001b[0;32min\u001b[0m \u001b[0miterable\u001b[0m\u001b[0;34m:\u001b[0m\u001b[0;34m\u001b[0m\u001b[0;34m\u001b[0m\u001b[0m\n\u001b[0m\u001b[1;32m   1130\u001b[0m                 \u001b[0;32myield\u001b[0m \u001b[0mobj\u001b[0m\u001b[0;34m\u001b[0m\u001b[0;34m\u001b[0m\u001b[0m\n\u001b[1;32m   1131\u001b[0m                 \u001b[0;31m# Update and possibly print the progressbar.\u001b[0m\u001b[0;34m\u001b[0m\u001b[0;34m\u001b[0m\u001b[0;34m\u001b[0m\u001b[0m\n",
      "\u001b[0;32m/opt/packages/anaconda3/lib/python3.8/multiprocessing/pool.py\u001b[0m in \u001b[0;36mnext\u001b[0;34m(self, timeout)\u001b[0m\n\u001b[1;32m    866\u001b[0m         \u001b[0;32mif\u001b[0m \u001b[0msuccess\u001b[0m\u001b[0;34m:\u001b[0m\u001b[0;34m\u001b[0m\u001b[0;34m\u001b[0m\u001b[0m\n\u001b[1;32m    867\u001b[0m             \u001b[0;32mreturn\u001b[0m \u001b[0mvalue\u001b[0m\u001b[0;34m\u001b[0m\u001b[0;34m\u001b[0m\u001b[0m\n\u001b[0;32m--> 868\u001b[0;31m         \u001b[0;32mraise\u001b[0m \u001b[0mvalue\u001b[0m\u001b[0;34m\u001b[0m\u001b[0;34m\u001b[0m\u001b[0m\n\u001b[0m\u001b[1;32m    869\u001b[0m \u001b[0;34m\u001b[0m\u001b[0m\n\u001b[1;32m    870\u001b[0m     \u001b[0m__next__\u001b[0m \u001b[0;34m=\u001b[0m \u001b[0mnext\u001b[0m                    \u001b[0;31m# XXX\u001b[0m\u001b[0;34m\u001b[0m\u001b[0;34m\u001b[0m\u001b[0m\n",
      "\u001b[0;31mValueError\u001b[0m: attempt to get argmin of an empty sequence"
     ]
    }
   ],
   "source": [
    "queue = [[i, crossmatchall_lightcurve_table[np.where(crossmatchall_lightcurve_table[\"STANDARD_NAME\"] == i[\"STANDARD_NAME\"])]] for i in crossmatchall_table]"
   ]
  },
  {
   "cell_type": "code",
   "execution_count": null,
   "metadata": {},
   "outputs": [],
   "source": [
    "pool = mp.Pool(processes=cores)\n",
    "crossmatchall_tde_list = np.array(list(tqdm(pool.imap(good_tde_all, queue), total = len(queue))))"
   ]
  }
 ],
 "metadata": {
  "kernelspec": {
   "display_name": "Python 3",
   "language": "python",
   "name": "python3"
  },
  "language_info": {
   "codemirror_mode": {
    "name": "ipython",
    "version": 3
   },
   "file_extension": ".py",
   "mimetype": "text/x-python",
   "name": "python",
   "nbconvert_exporter": "python",
   "pygments_lexer": "ipython3",
   "version": "3.8.3"
  }
 },
 "nbformat": 4,
 "nbformat_minor": 4
}
